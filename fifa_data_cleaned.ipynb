{
 "cells": [
  {
   "cell_type": "markdown",
   "id": "41a0a536",
   "metadata": {
    "papermill": {
     "duration": 0.010323,
     "end_time": "2024-08-03T15:58:36.687138",
     "exception": false,
     "start_time": "2024-08-03T15:58:36.676815",
     "status": "completed"
    },
    "tags": []
   },
   "source": [
    "# Importing neccessary libraries"
   ]
  },
  {
   "cell_type": "code",
   "execution_count": 1,
   "id": "b2c2a4b9",
   "metadata": {
    "_cell_guid": "b1076dfc-b9ad-4769-8c92-a6c4dae69d19",
    "_uuid": "8f2839f25d086af736a60e9eeb907d3b93b6e0e5",
    "execution": {
     "iopub.execute_input": "2024-08-03T15:58:36.709164Z",
     "iopub.status.busy": "2024-08-03T15:58:36.708805Z",
     "iopub.status.idle": "2024-08-03T15:58:37.427137Z",
     "shell.execute_reply": "2024-08-03T15:58:37.426271Z"
    },
    "papermill": {
     "duration": 0.731764,
     "end_time": "2024-08-03T15:58:37.429494",
     "exception": false,
     "start_time": "2024-08-03T15:58:36.697730",
     "status": "completed"
    },
    "tags": []
   },
   "outputs": [],
   "source": [
    "import pandas as pd\n",
    "import numpy as np"
   ]
  },
  {
   "cell_type": "code",
   "execution_count": 2,
   "id": "357cfa47",
   "metadata": {
    "execution": {
     "iopub.execute_input": "2024-08-03T15:58:37.451589Z",
     "iopub.status.busy": "2024-08-03T15:58:37.450824Z",
     "iopub.status.idle": "2024-08-03T15:58:37.857466Z",
     "shell.execute_reply": "2024-08-03T15:58:37.856592Z"
    },
    "papermill": {
     "duration": 0.420246,
     "end_time": "2024-08-03T15:58:37.859950",
     "exception": false,
     "start_time": "2024-08-03T15:58:37.439704",
     "status": "completed"
    },
    "tags": []
   },
   "outputs": [],
   "source": [
    "fifa = pd.read_csv('/kaggle/input/fifa-21-messy-raw-dataset-for-cleaning-exploring/fifa21_raw_data.csv',\n",
    "                  low_memory=False)"
   ]
  },
  {
   "cell_type": "code",
   "execution_count": 3,
   "id": "0f0b08a8",
   "metadata": {
    "execution": {
     "iopub.execute_input": "2024-08-03T15:58:37.882092Z",
     "iopub.status.busy": "2024-08-03T15:58:37.881348Z",
     "iopub.status.idle": "2024-08-03T15:58:37.912774Z",
     "shell.execute_reply": "2024-08-03T15:58:37.911861Z"
    },
    "papermill": {
     "duration": 0.044608,
     "end_time": "2024-08-03T15:58:37.914778",
     "exception": false,
     "start_time": "2024-08-03T15:58:37.870170",
     "status": "completed"
    },
    "tags": []
   },
   "outputs": [
    {
     "data": {
      "text/html": [
       "<div>\n",
       "<style scoped>\n",
       "    .dataframe tbody tr th:only-of-type {\n",
       "        vertical-align: middle;\n",
       "    }\n",
       "\n",
       "    .dataframe tbody tr th {\n",
       "        vertical-align: top;\n",
       "    }\n",
       "\n",
       "    .dataframe thead th {\n",
       "        text-align: right;\n",
       "    }\n",
       "</style>\n",
       "<table border=\"1\" class=\"dataframe\">\n",
       "  <thead>\n",
       "    <tr style=\"text-align: right;\">\n",
       "      <th></th>\n",
       "      <th>photoUrl</th>\n",
       "      <th>LongName</th>\n",
       "      <th>playerUrl</th>\n",
       "      <th>Nationality</th>\n",
       "      <th>Positions</th>\n",
       "      <th>Name</th>\n",
       "      <th>Age</th>\n",
       "      <th>↓OVA</th>\n",
       "      <th>POT</th>\n",
       "      <th>Team &amp; Contract</th>\n",
       "      <th>...</th>\n",
       "      <th>A/W</th>\n",
       "      <th>D/W</th>\n",
       "      <th>IR</th>\n",
       "      <th>PAC</th>\n",
       "      <th>SHO</th>\n",
       "      <th>PAS</th>\n",
       "      <th>DRI</th>\n",
       "      <th>DEF</th>\n",
       "      <th>PHY</th>\n",
       "      <th>Hits</th>\n",
       "    </tr>\n",
       "  </thead>\n",
       "  <tbody>\n",
       "    <tr>\n",
       "      <th>0</th>\n",
       "      <td>https://cdn.sofifa.com/players/158/023/21_60.png</td>\n",
       "      <td>Lionel Messi</td>\n",
       "      <td>http://sofifa.com/player/158023/lionel-messi/2...</td>\n",
       "      <td>Argentina</td>\n",
       "      <td>RW ST CF</td>\n",
       "      <td>L. Messi</td>\n",
       "      <td>33</td>\n",
       "      <td>93</td>\n",
       "      <td>93</td>\n",
       "      <td>\\n\\n\\n\\nFC Barcelona\\n2004 ~ 2021\\n\\n</td>\n",
       "      <td>...</td>\n",
       "      <td>Medium</td>\n",
       "      <td>Low</td>\n",
       "      <td>5 ★</td>\n",
       "      <td>85</td>\n",
       "      <td>92</td>\n",
       "      <td>91</td>\n",
       "      <td>95</td>\n",
       "      <td>38</td>\n",
       "      <td>65</td>\n",
       "      <td>\\n372</td>\n",
       "    </tr>\n",
       "    <tr>\n",
       "      <th>1</th>\n",
       "      <td>https://cdn.sofifa.com/players/020/801/21_60.png</td>\n",
       "      <td>C. Ronaldo dos Santos Aveiro</td>\n",
       "      <td>http://sofifa.com/player/20801/c-ronaldo-dos-s...</td>\n",
       "      <td>Portugal</td>\n",
       "      <td>ST LW</td>\n",
       "      <td>Cristiano Ronaldo</td>\n",
       "      <td>35</td>\n",
       "      <td>92</td>\n",
       "      <td>92</td>\n",
       "      <td>\\n\\n\\n\\nJuventus\\n2018 ~ 2022\\n\\n</td>\n",
       "      <td>...</td>\n",
       "      <td>High</td>\n",
       "      <td>Low</td>\n",
       "      <td>5 ★</td>\n",
       "      <td>89</td>\n",
       "      <td>93</td>\n",
       "      <td>81</td>\n",
       "      <td>89</td>\n",
       "      <td>35</td>\n",
       "      <td>77</td>\n",
       "      <td>\\n344</td>\n",
       "    </tr>\n",
       "    <tr>\n",
       "      <th>2</th>\n",
       "      <td>https://cdn.sofifa.com/players/200/389/21_60.png</td>\n",
       "      <td>Jan Oblak</td>\n",
       "      <td>http://sofifa.com/player/200389/jan-oblak/210005/</td>\n",
       "      <td>Slovenia</td>\n",
       "      <td>GK</td>\n",
       "      <td>J. Oblak</td>\n",
       "      <td>27</td>\n",
       "      <td>91</td>\n",
       "      <td>93</td>\n",
       "      <td>\\n\\n\\n\\nAtlético Madrid\\n2014 ~ 2023\\n\\n</td>\n",
       "      <td>...</td>\n",
       "      <td>Medium</td>\n",
       "      <td>Medium</td>\n",
       "      <td>3 ★</td>\n",
       "      <td>87</td>\n",
       "      <td>92</td>\n",
       "      <td>78</td>\n",
       "      <td>90</td>\n",
       "      <td>52</td>\n",
       "      <td>90</td>\n",
       "      <td>\\n86</td>\n",
       "    </tr>\n",
       "    <tr>\n",
       "      <th>3</th>\n",
       "      <td>https://cdn.sofifa.com/players/192/985/21_60.png</td>\n",
       "      <td>Kevin De Bruyne</td>\n",
       "      <td>http://sofifa.com/player/192985/kevin-de-bruyn...</td>\n",
       "      <td>Belgium</td>\n",
       "      <td>CAM CM</td>\n",
       "      <td>K. De Bruyne</td>\n",
       "      <td>29</td>\n",
       "      <td>91</td>\n",
       "      <td>91</td>\n",
       "      <td>\\n\\n\\n\\nManchester City\\n2015 ~ 2023\\n\\n</td>\n",
       "      <td>...</td>\n",
       "      <td>High</td>\n",
       "      <td>High</td>\n",
       "      <td>4 ★</td>\n",
       "      <td>76</td>\n",
       "      <td>86</td>\n",
       "      <td>93</td>\n",
       "      <td>88</td>\n",
       "      <td>64</td>\n",
       "      <td>78</td>\n",
       "      <td>\\n163</td>\n",
       "    </tr>\n",
       "    <tr>\n",
       "      <th>4</th>\n",
       "      <td>https://cdn.sofifa.com/players/190/871/21_60.png</td>\n",
       "      <td>Neymar da Silva Santos Jr.</td>\n",
       "      <td>http://sofifa.com/player/190871/neymar-da-silv...</td>\n",
       "      <td>Brazil</td>\n",
       "      <td>LW CAM</td>\n",
       "      <td>Neymar Jr</td>\n",
       "      <td>28</td>\n",
       "      <td>91</td>\n",
       "      <td>91</td>\n",
       "      <td>\\n\\n\\n\\nParis Saint-Germain\\n2017 ~ 2022\\n\\n</td>\n",
       "      <td>...</td>\n",
       "      <td>High</td>\n",
       "      <td>Medium</td>\n",
       "      <td>5 ★</td>\n",
       "      <td>91</td>\n",
       "      <td>85</td>\n",
       "      <td>86</td>\n",
       "      <td>94</td>\n",
       "      <td>36</td>\n",
       "      <td>59</td>\n",
       "      <td>\\n273</td>\n",
       "    </tr>\n",
       "  </tbody>\n",
       "</table>\n",
       "<p>5 rows × 77 columns</p>\n",
       "</div>"
      ],
      "text/plain": [
       "                                           photoUrl  \\\n",
       "0  https://cdn.sofifa.com/players/158/023/21_60.png   \n",
       "1  https://cdn.sofifa.com/players/020/801/21_60.png   \n",
       "2  https://cdn.sofifa.com/players/200/389/21_60.png   \n",
       "3  https://cdn.sofifa.com/players/192/985/21_60.png   \n",
       "4  https://cdn.sofifa.com/players/190/871/21_60.png   \n",
       "\n",
       "                       LongName  \\\n",
       "0                  Lionel Messi   \n",
       "1  C. Ronaldo dos Santos Aveiro   \n",
       "2                     Jan Oblak   \n",
       "3               Kevin De Bruyne   \n",
       "4    Neymar da Silva Santos Jr.   \n",
       "\n",
       "                                           playerUrl Nationality Positions  \\\n",
       "0  http://sofifa.com/player/158023/lionel-messi/2...   Argentina  RW ST CF   \n",
       "1  http://sofifa.com/player/20801/c-ronaldo-dos-s...    Portugal     ST LW   \n",
       "2  http://sofifa.com/player/200389/jan-oblak/210005/    Slovenia        GK   \n",
       "3  http://sofifa.com/player/192985/kevin-de-bruyn...     Belgium    CAM CM   \n",
       "4  http://sofifa.com/player/190871/neymar-da-silv...      Brazil    LW CAM   \n",
       "\n",
       "                Name  Age  ↓OVA  POT  \\\n",
       "0           L. Messi   33    93   93   \n",
       "1  Cristiano Ronaldo   35    92   92   \n",
       "2           J. Oblak   27    91   93   \n",
       "3       K. De Bruyne   29    91   91   \n",
       "4          Neymar Jr   28    91   91   \n",
       "\n",
       "                                Team & Contract  ...     A/W     D/W   IR PAC  \\\n",
       "0         \\n\\n\\n\\nFC Barcelona\\n2004 ~ 2021\\n\\n  ...  Medium     Low  5 ★  85   \n",
       "1             \\n\\n\\n\\nJuventus\\n2018 ~ 2022\\n\\n  ...    High     Low  5 ★  89   \n",
       "2      \\n\\n\\n\\nAtlético Madrid\\n2014 ~ 2023\\n\\n  ...  Medium  Medium  3 ★  87   \n",
       "3      \\n\\n\\n\\nManchester City\\n2015 ~ 2023\\n\\n  ...    High    High  4 ★  76   \n",
       "4  \\n\\n\\n\\nParis Saint-Germain\\n2017 ~ 2022\\n\\n  ...    High  Medium  5 ★  91   \n",
       "\n",
       "   SHO PAS  DRI DEF PHY   Hits  \n",
       "0   92  91   95  38  65  \\n372  \n",
       "1   93  81   89  35  77  \\n344  \n",
       "2   92  78   90  52  90   \\n86  \n",
       "3   86  93   88  64  78  \\n163  \n",
       "4   85  86   94  36  59  \\n273  \n",
       "\n",
       "[5 rows x 77 columns]"
      ]
     },
     "execution_count": 3,
     "metadata": {},
     "output_type": "execute_result"
    }
   ],
   "source": [
    "fifa.head()"
   ]
  },
  {
   "cell_type": "code",
   "execution_count": 4,
   "id": "0dce1aeb",
   "metadata": {
    "execution": {
     "iopub.execute_input": "2024-08-03T15:58:37.937483Z",
     "iopub.status.busy": "2024-08-03T15:58:37.936950Z",
     "iopub.status.idle": "2024-08-03T15:58:37.956547Z",
     "shell.execute_reply": "2024-08-03T15:58:37.955614Z"
    },
    "papermill": {
     "duration": 0.032678,
     "end_time": "2024-08-03T15:58:37.958550",
     "exception": false,
     "start_time": "2024-08-03T15:58:37.925872",
     "status": "completed"
    },
    "tags": []
   },
   "outputs": [
    {
     "data": {
      "text/html": [
       "<div>\n",
       "<style scoped>\n",
       "    .dataframe tbody tr th:only-of-type {\n",
       "        vertical-align: middle;\n",
       "    }\n",
       "\n",
       "    .dataframe tbody tr th {\n",
       "        vertical-align: top;\n",
       "    }\n",
       "\n",
       "    .dataframe thead th {\n",
       "        text-align: right;\n",
       "    }\n",
       "</style>\n",
       "<table border=\"1\" class=\"dataframe\">\n",
       "  <thead>\n",
       "    <tr style=\"text-align: right;\">\n",
       "      <th></th>\n",
       "      <th>photoUrl</th>\n",
       "      <th>LongName</th>\n",
       "      <th>playerUrl</th>\n",
       "      <th>Nationality</th>\n",
       "      <th>Positions</th>\n",
       "      <th>Name</th>\n",
       "      <th>Age</th>\n",
       "      <th>↓OVA</th>\n",
       "      <th>POT</th>\n",
       "      <th>Team &amp; Contract</th>\n",
       "      <th>...</th>\n",
       "      <th>A/W</th>\n",
       "      <th>D/W</th>\n",
       "      <th>IR</th>\n",
       "      <th>PAC</th>\n",
       "      <th>SHO</th>\n",
       "      <th>PAS</th>\n",
       "      <th>DRI</th>\n",
       "      <th>DEF</th>\n",
       "      <th>PHY</th>\n",
       "      <th>Hits</th>\n",
       "    </tr>\n",
       "  </thead>\n",
       "  <tbody>\n",
       "    <tr>\n",
       "      <th>18974</th>\n",
       "      <td>https://cdn.sofifa.com/players/257/710/21_60.png</td>\n",
       "      <td>Mengxuan Zhang</td>\n",
       "      <td>http://sofifa.com/player/257710/mengxuan-zhang...</td>\n",
       "      <td>China PR</td>\n",
       "      <td>CB</td>\n",
       "      <td>Zhang Mengxuan</td>\n",
       "      <td>21</td>\n",
       "      <td>47</td>\n",
       "      <td>52</td>\n",
       "      <td>\\n\\n\\n\\nChongqing Dangdai Lifan FC SWM Team\\n2...</td>\n",
       "      <td>...</td>\n",
       "      <td>Low</td>\n",
       "      <td>Low</td>\n",
       "      <td>1 ★</td>\n",
       "      <td>58</td>\n",
       "      <td>23</td>\n",
       "      <td>26</td>\n",
       "      <td>27</td>\n",
       "      <td>50</td>\n",
       "      <td>48</td>\n",
       "      <td>\\n2</td>\n",
       "    </tr>\n",
       "    <tr>\n",
       "      <th>18975</th>\n",
       "      <td>https://cdn.sofifa.com/players/258/736/21_60.png</td>\n",
       "      <td>Vani Da Silva</td>\n",
       "      <td>http://sofifa.com/player/258736/vani-da-silva/...</td>\n",
       "      <td>England</td>\n",
       "      <td>ST</td>\n",
       "      <td>V. Da Silva</td>\n",
       "      <td>17</td>\n",
       "      <td>47</td>\n",
       "      <td>67</td>\n",
       "      <td>\\n\\n\\n\\nOldham Athletic\\n2020 ~ 2021\\n\\n</td>\n",
       "      <td>...</td>\n",
       "      <td>Medium</td>\n",
       "      <td>Medium</td>\n",
       "      <td>1 ★</td>\n",
       "      <td>70</td>\n",
       "      <td>46</td>\n",
       "      <td>40</td>\n",
       "      <td>53</td>\n",
       "      <td>16</td>\n",
       "      <td>40</td>\n",
       "      <td>\\n3</td>\n",
       "    </tr>\n",
       "    <tr>\n",
       "      <th>18976</th>\n",
       "      <td>https://cdn.sofifa.com/players/247/223/21_60.png</td>\n",
       "      <td>Ao Xia</td>\n",
       "      <td>http://sofifa.com/player/247223/ao-xia/210005/</td>\n",
       "      <td>China PR</td>\n",
       "      <td>CB</td>\n",
       "      <td>Xia Ao</td>\n",
       "      <td>21</td>\n",
       "      <td>47</td>\n",
       "      <td>55</td>\n",
       "      <td>\\n\\n\\n\\nWuhan Zall\\n2018 ~ 2022\\n\\n</td>\n",
       "      <td>...</td>\n",
       "      <td>Medium</td>\n",
       "      <td>Medium</td>\n",
       "      <td>1 ★</td>\n",
       "      <td>64</td>\n",
       "      <td>28</td>\n",
       "      <td>26</td>\n",
       "      <td>38</td>\n",
       "      <td>48</td>\n",
       "      <td>51</td>\n",
       "      <td>\\n3</td>\n",
       "    </tr>\n",
       "    <tr>\n",
       "      <th>18977</th>\n",
       "      <td>https://cdn.sofifa.com/players/258/760/21_60.png</td>\n",
       "      <td>Ben Hough</td>\n",
       "      <td>http://sofifa.com/player/258760/ben-hough/210005/</td>\n",
       "      <td>England</td>\n",
       "      <td>CM</td>\n",
       "      <td>B. Hough</td>\n",
       "      <td>17</td>\n",
       "      <td>47</td>\n",
       "      <td>67</td>\n",
       "      <td>\\n\\n\\n\\nOldham Athletic\\n2020 ~ 2021\\n\\n</td>\n",
       "      <td>...</td>\n",
       "      <td>Medium</td>\n",
       "      <td>Medium</td>\n",
       "      <td>1 ★</td>\n",
       "      <td>64</td>\n",
       "      <td>40</td>\n",
       "      <td>48</td>\n",
       "      <td>49</td>\n",
       "      <td>35</td>\n",
       "      <td>45</td>\n",
       "      <td>\\n5</td>\n",
       "    </tr>\n",
       "    <tr>\n",
       "      <th>18978</th>\n",
       "      <td>https://cdn.sofifa.com/players/255/958/21_60.png</td>\n",
       "      <td>Mateo Flores</td>\n",
       "      <td>http://sofifa.com/player/255958/mateo-flores/2...</td>\n",
       "      <td>Bolivia</td>\n",
       "      <td>CDM</td>\n",
       "      <td>M. Flores</td>\n",
       "      <td>19</td>\n",
       "      <td>47</td>\n",
       "      <td>63</td>\n",
       "      <td>\\n\\n\\n\\nClub Bolívar\\n2020 ~ 2024\\n\\n</td>\n",
       "      <td>...</td>\n",
       "      <td>Medium</td>\n",
       "      <td>Medium</td>\n",
       "      <td>1 ★</td>\n",
       "      <td>57</td>\n",
       "      <td>32</td>\n",
       "      <td>43</td>\n",
       "      <td>48</td>\n",
       "      <td>44</td>\n",
       "      <td>49</td>\n",
       "      <td>\\n2</td>\n",
       "    </tr>\n",
       "  </tbody>\n",
       "</table>\n",
       "<p>5 rows × 77 columns</p>\n",
       "</div>"
      ],
      "text/plain": [
       "                                               photoUrl        LongName  \\\n",
       "18974  https://cdn.sofifa.com/players/257/710/21_60.png  Mengxuan Zhang   \n",
       "18975  https://cdn.sofifa.com/players/258/736/21_60.png   Vani Da Silva   \n",
       "18976  https://cdn.sofifa.com/players/247/223/21_60.png          Ao Xia   \n",
       "18977  https://cdn.sofifa.com/players/258/760/21_60.png       Ben Hough   \n",
       "18978  https://cdn.sofifa.com/players/255/958/21_60.png    Mateo Flores   \n",
       "\n",
       "                                               playerUrl Nationality  \\\n",
       "18974  http://sofifa.com/player/257710/mengxuan-zhang...    China PR   \n",
       "18975  http://sofifa.com/player/258736/vani-da-silva/...     England   \n",
       "18976     http://sofifa.com/player/247223/ao-xia/210005/    China PR   \n",
       "18977  http://sofifa.com/player/258760/ben-hough/210005/     England   \n",
       "18978  http://sofifa.com/player/255958/mateo-flores/2...     Bolivia   \n",
       "\n",
       "      Positions            Name  Age  ↓OVA  POT  \\\n",
       "18974        CB  Zhang Mengxuan   21    47   52   \n",
       "18975        ST     V. Da Silva   17    47   67   \n",
       "18976        CB          Xia Ao   21    47   55   \n",
       "18977        CM        B. Hough   17    47   67   \n",
       "18978       CDM       M. Flores   19    47   63   \n",
       "\n",
       "                                         Team & Contract  ...     A/W     D/W  \\\n",
       "18974  \\n\\n\\n\\nChongqing Dangdai Lifan FC SWM Team\\n2...  ...     Low     Low   \n",
       "18975           \\n\\n\\n\\nOldham Athletic\\n2020 ~ 2021\\n\\n  ...  Medium  Medium   \n",
       "18976                \\n\\n\\n\\nWuhan Zall\\n2018 ~ 2022\\n\\n  ...  Medium  Medium   \n",
       "18977           \\n\\n\\n\\nOldham Athletic\\n2020 ~ 2021\\n\\n  ...  Medium  Medium   \n",
       "18978              \\n\\n\\n\\nClub Bolívar\\n2020 ~ 2024\\n\\n  ...  Medium  Medium   \n",
       "\n",
       "        IR PAC  SHO PAS  DRI DEF PHY Hits  \n",
       "18974  1 ★  58   23  26   27  50  48  \\n2  \n",
       "18975  1 ★  70   46  40   53  16  40  \\n3  \n",
       "18976  1 ★  64   28  26   38  48  51  \\n3  \n",
       "18977  1 ★  64   40  48   49  35  45  \\n5  \n",
       "18978  1 ★  57   32  43   48  44  49  \\n2  \n",
       "\n",
       "[5 rows x 77 columns]"
      ]
     },
     "execution_count": 4,
     "metadata": {},
     "output_type": "execute_result"
    }
   ],
   "source": [
    "fifa.tail()"
   ]
  },
  {
   "cell_type": "code",
   "execution_count": 5,
   "id": "47c102f1",
   "metadata": {
    "execution": {
     "iopub.execute_input": "2024-08-03T15:58:37.982030Z",
     "iopub.status.busy": "2024-08-03T15:58:37.981243Z",
     "iopub.status.idle": "2024-08-03T15:58:37.987767Z",
     "shell.execute_reply": "2024-08-03T15:58:37.986907Z"
    },
    "papermill": {
     "duration": 0.02028,
     "end_time": "2024-08-03T15:58:37.989794",
     "exception": false,
     "start_time": "2024-08-03T15:58:37.969514",
     "status": "completed"
    },
    "tags": []
   },
   "outputs": [
    {
     "data": {
      "text/plain": [
       "Index(['photoUrl', 'LongName', 'playerUrl', 'Nationality', 'Positions', 'Name',\n",
       "       'Age', '↓OVA', 'POT', 'Team & Contract', 'ID', 'Height', 'Weight',\n",
       "       'foot', 'BOV', 'BP', 'Growth', 'Joined', 'Loan Date End', 'Value',\n",
       "       'Wage', 'Release Clause', 'Attacking', 'Crossing', 'Finishing',\n",
       "       'Heading Accuracy', 'Short Passing', 'Volleys', 'Skill', 'Dribbling',\n",
       "       'Curve', 'FK Accuracy', 'Long Passing', 'Ball Control', 'Movement',\n",
       "       'Acceleration', 'Sprint Speed', 'Agility', 'Reactions', 'Balance',\n",
       "       'Power', 'Shot Power', 'Jumping', 'Stamina', 'Strength', 'Long Shots',\n",
       "       'Mentality', 'Aggression', 'Interceptions', 'Positioning', 'Vision',\n",
       "       'Penalties', 'Composure', 'Defending', 'Marking', 'Standing Tackle',\n",
       "       'Sliding Tackle', 'Goalkeeping', 'GK Diving', 'GK Handling',\n",
       "       'GK Kicking', 'GK Positioning', 'GK Reflexes', 'Total Stats',\n",
       "       'Base Stats', 'W/F', 'SM', 'A/W', 'D/W', 'IR', 'PAC', 'SHO', 'PAS',\n",
       "       'DRI', 'DEF', 'PHY', 'Hits'],\n",
       "      dtype='object')"
      ]
     },
     "execution_count": 5,
     "metadata": {},
     "output_type": "execute_result"
    }
   ],
   "source": [
    "fifa.columns"
   ]
  },
  {
   "cell_type": "code",
   "execution_count": 6,
   "id": "41502338",
   "metadata": {
    "execution": {
     "iopub.execute_input": "2024-08-03T15:58:38.012825Z",
     "iopub.status.busy": "2024-08-03T15:58:38.012471Z",
     "iopub.status.idle": "2024-08-03T15:58:38.053845Z",
     "shell.execute_reply": "2024-08-03T15:58:38.052752Z"
    },
    "papermill": {
     "duration": 0.055737,
     "end_time": "2024-08-03T15:58:38.056429",
     "exception": false,
     "start_time": "2024-08-03T15:58:38.000692",
     "status": "completed"
    },
    "tags": []
   },
   "outputs": [
    {
     "name": "stdout",
     "output_type": "stream",
     "text": [
      "<class 'pandas.core.frame.DataFrame'>\n",
      "RangeIndex: 18979 entries, 0 to 18978\n",
      "Data columns (total 77 columns):\n",
      " #   Column            Non-Null Count  Dtype \n",
      "---  ------            --------------  ----- \n",
      " 0   photoUrl          18979 non-null  object\n",
      " 1   LongName          18979 non-null  object\n",
      " 2   playerUrl         18979 non-null  object\n",
      " 3   Nationality       18979 non-null  object\n",
      " 4   Positions         18979 non-null  object\n",
      " 5   Name              18979 non-null  object\n",
      " 6   Age               18979 non-null  int64 \n",
      " 7   ↓OVA              18979 non-null  int64 \n",
      " 8   POT               18979 non-null  int64 \n",
      " 9   Team & Contract   18979 non-null  object\n",
      " 10  ID                18979 non-null  int64 \n",
      " 11  Height            18979 non-null  object\n",
      " 12  Weight            18979 non-null  object\n",
      " 13  foot              18979 non-null  object\n",
      " 14  BOV               18979 non-null  int64 \n",
      " 15  BP                18979 non-null  object\n",
      " 16  Growth            18979 non-null  int64 \n",
      " 17  Joined            18979 non-null  object\n",
      " 18  Loan Date End     1013 non-null   object\n",
      " 19  Value             18979 non-null  object\n",
      " 20  Wage              18979 non-null  object\n",
      " 21  Release Clause    18979 non-null  object\n",
      " 22  Attacking         18979 non-null  int64 \n",
      " 23  Crossing          18979 non-null  int64 \n",
      " 24  Finishing         18979 non-null  int64 \n",
      " 25  Heading Accuracy  18979 non-null  int64 \n",
      " 26  Short Passing     18979 non-null  int64 \n",
      " 27  Volleys           18979 non-null  int64 \n",
      " 28  Skill             18979 non-null  int64 \n",
      " 29  Dribbling         18979 non-null  int64 \n",
      " 30  Curve             18979 non-null  int64 \n",
      " 31  FK Accuracy       18979 non-null  int64 \n",
      " 32  Long Passing      18979 non-null  int64 \n",
      " 33  Ball Control      18979 non-null  int64 \n",
      " 34  Movement          18979 non-null  int64 \n",
      " 35  Acceleration      18979 non-null  int64 \n",
      " 36  Sprint Speed      18979 non-null  int64 \n",
      " 37  Agility           18979 non-null  int64 \n",
      " 38  Reactions         18979 non-null  int64 \n",
      " 39  Balance           18979 non-null  int64 \n",
      " 40  Power             18979 non-null  int64 \n",
      " 41  Shot Power        18979 non-null  int64 \n",
      " 42  Jumping           18979 non-null  int64 \n",
      " 43  Stamina           18979 non-null  int64 \n",
      " 44  Strength          18979 non-null  int64 \n",
      " 45  Long Shots        18979 non-null  int64 \n",
      " 46  Mentality         18979 non-null  int64 \n",
      " 47  Aggression        18979 non-null  int64 \n",
      " 48  Interceptions     18979 non-null  int64 \n",
      " 49  Positioning       18979 non-null  int64 \n",
      " 50  Vision            18979 non-null  int64 \n",
      " 51  Penalties         18979 non-null  int64 \n",
      " 52  Composure         18979 non-null  int64 \n",
      " 53  Defending         18979 non-null  int64 \n",
      " 54  Marking           18979 non-null  int64 \n",
      " 55  Standing Tackle   18979 non-null  int64 \n",
      " 56  Sliding Tackle    18979 non-null  int64 \n",
      " 57  Goalkeeping       18979 non-null  int64 \n",
      " 58  GK Diving         18979 non-null  int64 \n",
      " 59  GK Handling       18979 non-null  int64 \n",
      " 60  GK Kicking        18979 non-null  int64 \n",
      " 61  GK Positioning    18979 non-null  int64 \n",
      " 62  GK Reflexes       18979 non-null  int64 \n",
      " 63  Total Stats       18979 non-null  int64 \n",
      " 64  Base Stats        18979 non-null  int64 \n",
      " 65  W/F               18979 non-null  object\n",
      " 66  SM                18979 non-null  object\n",
      " 67  A/W               18979 non-null  object\n",
      " 68  D/W               18979 non-null  object\n",
      " 69  IR                18979 non-null  object\n",
      " 70  PAC               18979 non-null  int64 \n",
      " 71  SHO               18979 non-null  int64 \n",
      " 72  PAS               18979 non-null  int64 \n",
      " 73  DRI               18979 non-null  int64 \n",
      " 74  DEF               18979 non-null  int64 \n",
      " 75  PHY               18979 non-null  int64 \n",
      " 76  Hits              18979 non-null  object\n",
      "dtypes: int64(55), object(22)\n",
      "memory usage: 11.1+ MB\n"
     ]
    }
   ],
   "source": [
    "fifa.info()"
   ]
  },
  {
   "cell_type": "markdown",
   "id": "60b78a61",
   "metadata": {
    "papermill": {
     "duration": 0.010809,
     "end_time": "2024-08-03T15:58:38.078436",
     "exception": false,
     "start_time": "2024-08-03T15:58:38.067627",
     "status": "completed"
    },
    "tags": []
   },
   "source": [
    "## Dealing with duplicates"
   ]
  },
  {
   "cell_type": "code",
   "execution_count": 7,
   "id": "c839e9df",
   "metadata": {
    "execution": {
     "iopub.execute_input": "2024-08-03T15:58:38.101905Z",
     "iopub.status.busy": "2024-08-03T15:58:38.101543Z",
     "iopub.status.idle": "2024-08-03T15:58:38.172102Z",
     "shell.execute_reply": "2024-08-03T15:58:38.171137Z"
    },
    "papermill": {
     "duration": 0.084981,
     "end_time": "2024-08-03T15:58:38.174354",
     "exception": false,
     "start_time": "2024-08-03T15:58:38.089373",
     "status": "completed"
    },
    "tags": []
   },
   "outputs": [
    {
     "data": {
      "text/plain": [
       "1"
      ]
     },
     "execution_count": 7,
     "metadata": {},
     "output_type": "execute_result"
    }
   ],
   "source": [
    "fifa.duplicated().sum()"
   ]
  },
  {
   "cell_type": "code",
   "execution_count": 8,
   "id": "5783dfe4",
   "metadata": {
    "execution": {
     "iopub.execute_input": "2024-08-03T15:58:38.198292Z",
     "iopub.status.busy": "2024-08-03T15:58:38.197622Z",
     "iopub.status.idle": "2024-08-03T15:58:38.276744Z",
     "shell.execute_reply": "2024-08-03T15:58:38.275833Z"
    },
    "papermill": {
     "duration": 0.093717,
     "end_time": "2024-08-03T15:58:38.279227",
     "exception": false,
     "start_time": "2024-08-03T15:58:38.185510",
     "status": "completed"
    },
    "tags": []
   },
   "outputs": [],
   "source": [
    "fifa.drop_duplicates(inplace = True)"
   ]
  },
  {
   "cell_type": "markdown",
   "id": "471b58e3",
   "metadata": {
    "papermill": {
     "duration": 0.010869,
     "end_time": "2024-08-03T15:58:38.301296",
     "exception": false,
     "start_time": "2024-08-03T15:58:38.290427",
     "status": "completed"
    },
    "tags": []
   },
   "source": [
    "## Dealing with non-values"
   ]
  },
  {
   "cell_type": "code",
   "execution_count": 9,
   "id": "e63e415a",
   "metadata": {
    "execution": {
     "iopub.execute_input": "2024-08-03T15:58:38.324803Z",
     "iopub.status.busy": "2024-08-03T15:58:38.324428Z",
     "iopub.status.idle": "2024-08-03T15:58:38.352976Z",
     "shell.execute_reply": "2024-08-03T15:58:38.351806Z"
    },
    "papermill": {
     "duration": 0.042709,
     "end_time": "2024-08-03T15:58:38.355022",
     "exception": false,
     "start_time": "2024-08-03T15:58:38.312313",
     "status": "completed"
    },
    "tags": []
   },
   "outputs": [
    {
     "data": {
      "text/plain": [
       "Loan Date End       17965\n",
       "photoUrl                0\n",
       "GK Diving               0\n",
       "Sliding Tackle          0\n",
       "Standing Tackle         0\n",
       "                    ...  \n",
       "Heading Accuracy        0\n",
       "Finishing               0\n",
       "Crossing                0\n",
       "Attacking               0\n",
       "Hits                    0\n",
       "Length: 77, dtype: int64"
      ]
     },
     "execution_count": 9,
     "metadata": {},
     "output_type": "execute_result"
    }
   ],
   "source": [
    "fifa.isna().sum().sort_values(ascending = False)"
   ]
  },
  {
   "cell_type": "markdown",
   "id": "bfd21545",
   "metadata": {
    "papermill": {
     "duration": 0.010892,
     "end_time": "2024-08-03T15:58:38.377013",
     "exception": false,
     "start_time": "2024-08-03T15:58:38.366121",
     "status": "completed"
    },
    "tags": []
   },
   "source": [
    "As shown we can't deal with **Loan Date End** Column ,Becaue we can't suggest a patter for this column to fillna , And surly we can't drop nan values of it **because its numbers!**"
   ]
  },
  {
   "cell_type": "markdown",
   "id": "fa71e85d",
   "metadata": {
    "papermill": {
     "duration": 0.010836,
     "end_time": "2024-08-03T15:58:38.398836",
     "exception": false,
     "start_time": "2024-08-03T15:58:38.388000",
     "status": "completed"
    },
    "tags": []
   },
   "source": [
    "## Converting Height Column from Feet,in To Cm"
   ]
  },
  {
   "cell_type": "code",
   "execution_count": 10,
   "id": "a6f2eb38",
   "metadata": {
    "execution": {
     "iopub.execute_input": "2024-08-03T15:58:38.422357Z",
     "iopub.status.busy": "2024-08-03T15:58:38.422009Z",
     "iopub.status.idle": "2024-08-03T15:58:38.446572Z",
     "shell.execute_reply": "2024-08-03T15:58:38.445723Z"
    },
    "papermill": {
     "duration": 0.038975,
     "end_time": "2024-08-03T15:58:38.448769",
     "exception": false,
     "start_time": "2024-08-03T15:58:38.409794",
     "status": "completed"
    },
    "tags": []
   },
   "outputs": [],
   "source": [
    "def converting_to_cm (x):\n",
    "    feet, inch = x.split(\"'\")\n",
    "    inch = inch.replace('\"','')\n",
    "    total_feet = float(feet) + float(inch) * 0.08\n",
    "    return total_feet * 30.48\n",
    "fifa['Height'] = fifa['Height'].apply(lambda x : converting_to_cm(x))\n",
    "# df['Height']"
   ]
  },
  {
   "cell_type": "code",
   "execution_count": 11,
   "id": "860219df",
   "metadata": {
    "execution": {
     "iopub.execute_input": "2024-08-03T15:58:38.472820Z",
     "iopub.status.busy": "2024-08-03T15:58:38.472470Z",
     "iopub.status.idle": "2024-08-03T15:58:38.481588Z",
     "shell.execute_reply": "2024-08-03T15:58:38.480722Z"
    },
    "papermill": {
     "duration": 0.023624,
     "end_time": "2024-08-03T15:58:38.483758",
     "exception": false,
     "start_time": "2024-08-03T15:58:38.460134",
     "status": "completed"
    },
    "tags": []
   },
   "outputs": [
    {
     "data": {
      "text/plain": [
       "0        169.0\n",
       "1        188.0\n",
       "2        188.0\n",
       "3        179.0\n",
       "4        174.0\n",
       "         ...  \n",
       "18974    177.0\n",
       "18975    169.0\n",
       "18976    177.0\n",
       "18977    174.0\n",
       "18978    174.0\n",
       "Name: Height, Length: 18978, dtype: float64"
      ]
     },
     "execution_count": 11,
     "metadata": {},
     "output_type": "execute_result"
    }
   ],
   "source": [
    "fifa['Height'].round(0)"
   ]
  },
  {
   "cell_type": "markdown",
   "id": "d85e47db",
   "metadata": {
    "papermill": {
     "duration": 0.011016,
     "end_time": "2024-08-03T15:58:38.506060",
     "exception": false,
     "start_time": "2024-08-03T15:58:38.495044",
     "status": "completed"
    },
    "tags": []
   },
   "source": [
    "## Is there a problem in Weight column?"
   ]
  },
  {
   "cell_type": "code",
   "execution_count": 12,
   "id": "e1bd542b",
   "metadata": {
    "execution": {
     "iopub.execute_input": "2024-08-03T15:58:38.530540Z",
     "iopub.status.busy": "2024-08-03T15:58:38.529710Z",
     "iopub.status.idle": "2024-08-03T15:58:38.561884Z",
     "shell.execute_reply": "2024-08-03T15:58:38.560973Z"
    },
    "papermill": {
     "duration": 0.047051,
     "end_time": "2024-08-03T15:58:38.564368",
     "exception": false,
     "start_time": "2024-08-03T15:58:38.517317",
     "status": "completed"
    },
    "tags": []
   },
   "outputs": [
    {
     "name": "stdout",
     "output_type": "stream",
     "text": [
      "<class 'pandas.core.frame.DataFrame'>\n",
      "Index: 18978 entries, 0 to 18978\n",
      "Data columns (total 77 columns):\n",
      " #   Column            Non-Null Count  Dtype  \n",
      "---  ------            --------------  -----  \n",
      " 0   photoUrl          18978 non-null  object \n",
      " 1   LongName          18978 non-null  object \n",
      " 2   playerUrl         18978 non-null  object \n",
      " 3   Nationality       18978 non-null  object \n",
      " 4   Positions         18978 non-null  object \n",
      " 5   Name              18978 non-null  object \n",
      " 6   Age               18978 non-null  int64  \n",
      " 7   ↓OVA              18978 non-null  int64  \n",
      " 8   POT               18978 non-null  int64  \n",
      " 9   Team & Contract   18978 non-null  object \n",
      " 10  ID                18978 non-null  int64  \n",
      " 11  Height            18978 non-null  float64\n",
      " 12  Weight            18978 non-null  object \n",
      " 13  foot              18978 non-null  object \n",
      " 14  BOV               18978 non-null  int64  \n",
      " 15  BP                18978 non-null  object \n",
      " 16  Growth            18978 non-null  int64  \n",
      " 17  Joined            18978 non-null  object \n",
      " 18  Loan Date End     1013 non-null   object \n",
      " 19  Value             18978 non-null  object \n",
      " 20  Wage              18978 non-null  object \n",
      " 21  Release Clause    18978 non-null  object \n",
      " 22  Attacking         18978 non-null  int64  \n",
      " 23  Crossing          18978 non-null  int64  \n",
      " 24  Finishing         18978 non-null  int64  \n",
      " 25  Heading Accuracy  18978 non-null  int64  \n",
      " 26  Short Passing     18978 non-null  int64  \n",
      " 27  Volleys           18978 non-null  int64  \n",
      " 28  Skill             18978 non-null  int64  \n",
      " 29  Dribbling         18978 non-null  int64  \n",
      " 30  Curve             18978 non-null  int64  \n",
      " 31  FK Accuracy       18978 non-null  int64  \n",
      " 32  Long Passing      18978 non-null  int64  \n",
      " 33  Ball Control      18978 non-null  int64  \n",
      " 34  Movement          18978 non-null  int64  \n",
      " 35  Acceleration      18978 non-null  int64  \n",
      " 36  Sprint Speed      18978 non-null  int64  \n",
      " 37  Agility           18978 non-null  int64  \n",
      " 38  Reactions         18978 non-null  int64  \n",
      " 39  Balance           18978 non-null  int64  \n",
      " 40  Power             18978 non-null  int64  \n",
      " 41  Shot Power        18978 non-null  int64  \n",
      " 42  Jumping           18978 non-null  int64  \n",
      " 43  Stamina           18978 non-null  int64  \n",
      " 44  Strength          18978 non-null  int64  \n",
      " 45  Long Shots        18978 non-null  int64  \n",
      " 46  Mentality         18978 non-null  int64  \n",
      " 47  Aggression        18978 non-null  int64  \n",
      " 48  Interceptions     18978 non-null  int64  \n",
      " 49  Positioning       18978 non-null  int64  \n",
      " 50  Vision            18978 non-null  int64  \n",
      " 51  Penalties         18978 non-null  int64  \n",
      " 52  Composure         18978 non-null  int64  \n",
      " 53  Defending         18978 non-null  int64  \n",
      " 54  Marking           18978 non-null  int64  \n",
      " 55  Standing Tackle   18978 non-null  int64  \n",
      " 56  Sliding Tackle    18978 non-null  int64  \n",
      " 57  Goalkeeping       18978 non-null  int64  \n",
      " 58  GK Diving         18978 non-null  int64  \n",
      " 59  GK Handling       18978 non-null  int64  \n",
      " 60  GK Kicking        18978 non-null  int64  \n",
      " 61  GK Positioning    18978 non-null  int64  \n",
      " 62  GK Reflexes       18978 non-null  int64  \n",
      " 63  Total Stats       18978 non-null  int64  \n",
      " 64  Base Stats        18978 non-null  int64  \n",
      " 65  W/F               18978 non-null  object \n",
      " 66  SM                18978 non-null  object \n",
      " 67  A/W               18978 non-null  object \n",
      " 68  D/W               18978 non-null  object \n",
      " 69  IR                18978 non-null  object \n",
      " 70  PAC               18978 non-null  int64  \n",
      " 71  SHO               18978 non-null  int64  \n",
      " 72  PAS               18978 non-null  int64  \n",
      " 73  DRI               18978 non-null  int64  \n",
      " 74  DEF               18978 non-null  int64  \n",
      " 75  PHY               18978 non-null  int64  \n",
      " 76  Hits              18978 non-null  object \n",
      "dtypes: float64(1), int64(55), object(21)\n",
      "memory usage: 11.3+ MB\n"
     ]
    }
   ],
   "source": [
    "fifa.info()"
   ]
  },
  {
   "cell_type": "code",
   "execution_count": 13,
   "id": "7af498e0",
   "metadata": {
    "execution": {
     "iopub.execute_input": "2024-08-03T15:58:38.588993Z",
     "iopub.status.busy": "2024-08-03T15:58:38.588387Z",
     "iopub.status.idle": "2024-08-03T15:58:38.602921Z",
     "shell.execute_reply": "2024-08-03T15:58:38.601965Z"
    },
    "papermill": {
     "duration": 0.028869,
     "end_time": "2024-08-03T15:58:38.604924",
     "exception": false,
     "start_time": "2024-08-03T15:58:38.576055",
     "status": "completed"
    },
    "tags": []
   },
   "outputs": [],
   "source": [
    "fifa['Weight'] = fifa['Weight'].str.replace('lbs','').astype(np.float32)"
   ]
  },
  {
   "cell_type": "code",
   "execution_count": 14,
   "id": "d0a60d43",
   "metadata": {
    "execution": {
     "iopub.execute_input": "2024-08-03T15:58:38.629579Z",
     "iopub.status.busy": "2024-08-03T15:58:38.628770Z",
     "iopub.status.idle": "2024-08-03T15:58:38.636634Z",
     "shell.execute_reply": "2024-08-03T15:58:38.635745Z"
    },
    "papermill": {
     "duration": 0.022252,
     "end_time": "2024-08-03T15:58:38.638590",
     "exception": false,
     "start_time": "2024-08-03T15:58:38.616338",
     "status": "completed"
    },
    "tags": []
   },
   "outputs": [
    {
     "data": {
      "text/plain": [
       "0        159.0\n",
       "1        183.0\n",
       "2        192.0\n",
       "3        154.0\n",
       "4        150.0\n",
       "         ...  \n",
       "18974    154.0\n",
       "18975    128.0\n",
       "18976    146.0\n",
       "18977    143.0\n",
       "18978    150.0\n",
       "Name: Weight, Length: 18978, dtype: float32"
      ]
     },
     "execution_count": 14,
     "metadata": {},
     "output_type": "execute_result"
    }
   ],
   "source": [
    "fifa['Weight']"
   ]
  },
  {
   "cell_type": "markdown",
   "id": "2432dc4e",
   "metadata": {
    "papermill": {
     "duration": 0.011255,
     "end_time": "2024-08-03T15:58:38.661391",
     "exception": false,
     "start_time": "2024-08-03T15:58:38.650136",
     "status": "completed"
    },
    "tags": []
   },
   "source": [
    "## Remove any newline in each object column "
   ]
  },
  {
   "cell_type": "code",
   "execution_count": 15,
   "id": "8e654298",
   "metadata": {
    "execution": {
     "iopub.execute_input": "2024-08-03T15:58:38.686054Z",
     "iopub.status.busy": "2024-08-03T15:58:38.685698Z",
     "iopub.status.idle": "2024-08-03T15:58:38.815693Z",
     "shell.execute_reply": "2024-08-03T15:58:38.814902Z"
    },
    "papermill": {
     "duration": 0.145002,
     "end_time": "2024-08-03T15:58:38.818045",
     "exception": false,
     "start_time": "2024-08-03T15:58:38.673043",
     "status": "completed"
    },
    "tags": []
   },
   "outputs": [],
   "source": [
    "for column in fifa.columns:\n",
    "    if fifa[column].dtype == np.object_:\n",
    "        fifa[column] = fifa[column].str.replace('\\n','')"
   ]
  },
  {
   "cell_type": "markdown",
   "id": "88ea9517",
   "metadata": {
    "papermill": {
     "duration": 0.058907,
     "end_time": "2024-08-03T15:58:38.889007",
     "exception": false,
     "start_time": "2024-08-03T15:58:38.830100",
     "status": "completed"
    },
    "tags": []
   },
   "source": [
    "## Expanding Value, Wage and Release Clause To its currency value, With take in care the ('M','K') Value difference"
   ]
  },
  {
   "cell_type": "code",
   "execution_count": 16,
   "id": "56d0679f",
   "metadata": {
    "execution": {
     "iopub.execute_input": "2024-08-03T15:58:38.913844Z",
     "iopub.status.busy": "2024-08-03T15:58:38.913475Z",
     "iopub.status.idle": "2024-08-03T15:58:38.946177Z",
     "shell.execute_reply": "2024-08-03T15:58:38.945139Z"
    },
    "papermill": {
     "duration": 0.047709,
     "end_time": "2024-08-03T15:58:38.948507",
     "exception": false,
     "start_time": "2024-08-03T15:58:38.900798",
     "status": "completed"
    },
    "tags": []
   },
   "outputs": [
    {
     "name": "stdout",
     "output_type": "stream",
     "text": [
      "<class 'pandas.core.frame.DataFrame'>\n",
      "Index: 18978 entries, 0 to 18978\n",
      "Data columns (total 77 columns):\n",
      " #   Column            Non-Null Count  Dtype  \n",
      "---  ------            --------------  -----  \n",
      " 0   photoUrl          18978 non-null  object \n",
      " 1   LongName          18978 non-null  object \n",
      " 2   playerUrl         18978 non-null  object \n",
      " 3   Nationality       18978 non-null  object \n",
      " 4   Positions         18978 non-null  object \n",
      " 5   Name              18978 non-null  object \n",
      " 6   Age               18978 non-null  int64  \n",
      " 7   ↓OVA              18978 non-null  int64  \n",
      " 8   POT               18978 non-null  int64  \n",
      " 9   Team & Contract   18978 non-null  object \n",
      " 10  ID                18978 non-null  int64  \n",
      " 11  Height            18978 non-null  float64\n",
      " 12  Weight            18978 non-null  float32\n",
      " 13  foot              18978 non-null  object \n",
      " 14  BOV               18978 non-null  int64  \n",
      " 15  BP                18978 non-null  object \n",
      " 16  Growth            18978 non-null  int64  \n",
      " 17  Joined            18978 non-null  object \n",
      " 18  Loan Date End     1013 non-null   object \n",
      " 19  Value             18978 non-null  object \n",
      " 20  Wage              18978 non-null  object \n",
      " 21  Release Clause    18978 non-null  object \n",
      " 22  Attacking         18978 non-null  int64  \n",
      " 23  Crossing          18978 non-null  int64  \n",
      " 24  Finishing         18978 non-null  int64  \n",
      " 25  Heading Accuracy  18978 non-null  int64  \n",
      " 26  Short Passing     18978 non-null  int64  \n",
      " 27  Volleys           18978 non-null  int64  \n",
      " 28  Skill             18978 non-null  int64  \n",
      " 29  Dribbling         18978 non-null  int64  \n",
      " 30  Curve             18978 non-null  int64  \n",
      " 31  FK Accuracy       18978 non-null  int64  \n",
      " 32  Long Passing      18978 non-null  int64  \n",
      " 33  Ball Control      18978 non-null  int64  \n",
      " 34  Movement          18978 non-null  int64  \n",
      " 35  Acceleration      18978 non-null  int64  \n",
      " 36  Sprint Speed      18978 non-null  int64  \n",
      " 37  Agility           18978 non-null  int64  \n",
      " 38  Reactions         18978 non-null  int64  \n",
      " 39  Balance           18978 non-null  int64  \n",
      " 40  Power             18978 non-null  int64  \n",
      " 41  Shot Power        18978 non-null  int64  \n",
      " 42  Jumping           18978 non-null  int64  \n",
      " 43  Stamina           18978 non-null  int64  \n",
      " 44  Strength          18978 non-null  int64  \n",
      " 45  Long Shots        18978 non-null  int64  \n",
      " 46  Mentality         18978 non-null  int64  \n",
      " 47  Aggression        18978 non-null  int64  \n",
      " 48  Interceptions     18978 non-null  int64  \n",
      " 49  Positioning       18978 non-null  int64  \n",
      " 50  Vision            18978 non-null  int64  \n",
      " 51  Penalties         18978 non-null  int64  \n",
      " 52  Composure         18978 non-null  int64  \n",
      " 53  Defending         18978 non-null  int64  \n",
      " 54  Marking           18978 non-null  int64  \n",
      " 55  Standing Tackle   18978 non-null  int64  \n",
      " 56  Sliding Tackle    18978 non-null  int64  \n",
      " 57  Goalkeeping       18978 non-null  int64  \n",
      " 58  GK Diving         18978 non-null  int64  \n",
      " 59  GK Handling       18978 non-null  int64  \n",
      " 60  GK Kicking        18978 non-null  int64  \n",
      " 61  GK Positioning    18978 non-null  int64  \n",
      " 62  GK Reflexes       18978 non-null  int64  \n",
      " 63  Total Stats       18978 non-null  int64  \n",
      " 64  Base Stats        18978 non-null  int64  \n",
      " 65  W/F               18978 non-null  object \n",
      " 66  SM                18978 non-null  object \n",
      " 67  A/W               18978 non-null  object \n",
      " 68  D/W               18978 non-null  object \n",
      " 69  IR                18978 non-null  object \n",
      " 70  PAC               18978 non-null  int64  \n",
      " 71  SHO               18978 non-null  int64  \n",
      " 72  PAS               18978 non-null  int64  \n",
      " 73  DRI               18978 non-null  int64  \n",
      " 74  DEF               18978 non-null  int64  \n",
      " 75  PHY               18978 non-null  int64  \n",
      " 76  Hits              18978 non-null  object \n",
      "dtypes: float32(1), float64(1), int64(55), object(20)\n",
      "memory usage: 11.2+ MB\n"
     ]
    }
   ],
   "source": [
    "fifa.info()"
   ]
  },
  {
   "cell_type": "code",
   "execution_count": 17,
   "id": "63364576",
   "metadata": {
    "execution": {
     "iopub.execute_input": "2024-08-03T15:58:38.975171Z",
     "iopub.status.busy": "2024-08-03T15:58:38.974837Z",
     "iopub.status.idle": "2024-08-03T15:58:38.982440Z",
     "shell.execute_reply": "2024-08-03T15:58:38.981501Z"
    },
    "papermill": {
     "duration": 0.022613,
     "end_time": "2024-08-03T15:58:38.984476",
     "exception": false,
     "start_time": "2024-08-03T15:58:38.961863",
     "status": "completed"
    },
    "tags": []
   },
   "outputs": [
    {
     "data": {
      "text/plain": [
       "0        €67.5M\n",
       "1          €46M\n",
       "2          €75M\n",
       "3          €87M\n",
       "4          €90M\n",
       "          ...  \n",
       "18974      €35K\n",
       "18975      €60K\n",
       "18976      €40K\n",
       "18977      €60K\n",
       "18978      €60K\n",
       "Name: Value, Length: 18978, dtype: object"
      ]
     },
     "execution_count": 17,
     "metadata": {},
     "output_type": "execute_result"
    }
   ],
   "source": [
    "fifa['Value']"
   ]
  },
  {
   "cell_type": "markdown",
   "id": "9a2adedf",
   "metadata": {
    "papermill": {
     "duration": 0.01152,
     "end_time": "2024-08-03T15:58:39.007884",
     "exception": false,
     "start_time": "2024-08-03T15:58:38.996364",
     "status": "completed"
    },
    "tags": []
   },
   "source": [
    "First we need to make sure that all values are in **Euro Currency**"
   ]
  },
  {
   "cell_type": "code",
   "execution_count": 18,
   "id": "0bce0d45",
   "metadata": {
    "execution": {
     "iopub.execute_input": "2024-08-03T15:58:39.032733Z",
     "iopub.status.busy": "2024-08-03T15:58:39.032373Z",
     "iopub.status.idle": "2024-08-03T15:58:39.051542Z",
     "shell.execute_reply": "2024-08-03T15:58:39.050628Z"
    },
    "papermill": {
     "duration": 0.033946,
     "end_time": "2024-08-03T15:58:39.053502",
     "exception": false,
     "start_time": "2024-08-03T15:58:39.019556",
     "status": "completed"
    },
    "tags": []
   },
   "outputs": [
    {
     "data": {
      "text/plain": [
       "Value\n",
       "€    18978\n",
       "Name: count, dtype: int64"
      ]
     },
     "execution_count": 18,
     "metadata": {},
     "output_type": "execute_result"
    }
   ],
   "source": [
    "fifa['Value'].str[0].value_counts()"
   ]
  },
  {
   "cell_type": "code",
   "execution_count": 19,
   "id": "0ee57040",
   "metadata": {
    "execution": {
     "iopub.execute_input": "2024-08-03T15:58:39.079368Z",
     "iopub.status.busy": "2024-08-03T15:58:39.079036Z",
     "iopub.status.idle": "2024-08-03T15:58:39.092162Z",
     "shell.execute_reply": "2024-08-03T15:58:39.091194Z"
    },
    "papermill": {
     "duration": 0.028193,
     "end_time": "2024-08-03T15:58:39.094137",
     "exception": false,
     "start_time": "2024-08-03T15:58:39.065944",
     "status": "completed"
    },
    "tags": []
   },
   "outputs": [],
   "source": [
    "fifa['Value'] = fifa['Value'].str.replace(\"€\",'')"
   ]
  },
  {
   "cell_type": "code",
   "execution_count": 20,
   "id": "078f0693",
   "metadata": {
    "execution": {
     "iopub.execute_input": "2024-08-03T15:58:39.119590Z",
     "iopub.status.busy": "2024-08-03T15:58:39.119267Z",
     "iopub.status.idle": "2024-08-03T15:58:39.131578Z",
     "shell.execute_reply": "2024-08-03T15:58:39.130840Z"
    },
    "papermill": {
     "duration": 0.027133,
     "end_time": "2024-08-03T15:58:39.133526",
     "exception": false,
     "start_time": "2024-08-03T15:58:39.106393",
     "status": "completed"
    },
    "tags": []
   },
   "outputs": [],
   "source": [
    "# Slicing the Million values to start work on its\n",
    "Mill_Ser_Value = fifa.loc[fifa['Value'].str.contains('M'),'Value']"
   ]
  },
  {
   "cell_type": "code",
   "execution_count": 21,
   "id": "c5852b11",
   "metadata": {
    "execution": {
     "iopub.execute_input": "2024-08-03T15:58:39.159289Z",
     "iopub.status.busy": "2024-08-03T15:58:39.158955Z",
     "iopub.status.idle": "2024-08-03T15:58:39.167627Z",
     "shell.execute_reply": "2024-08-03T15:58:39.166714Z"
    },
    "papermill": {
     "duration": 0.023789,
     "end_time": "2024-08-03T15:58:39.169625",
     "exception": false,
     "start_time": "2024-08-03T15:58:39.145836",
     "status": "completed"
    },
    "tags": []
   },
   "outputs": [],
   "source": [
    "Mill_Ser_Value = Mill_Ser_Value.str.replace('M','').astype(np.float32) * 1000000"
   ]
  },
  {
   "cell_type": "code",
   "execution_count": 22,
   "id": "e2ae7c10",
   "metadata": {
    "execution": {
     "iopub.execute_input": "2024-08-03T15:58:39.195389Z",
     "iopub.status.busy": "2024-08-03T15:58:39.195036Z",
     "iopub.status.idle": "2024-08-03T15:58:39.207991Z",
     "shell.execute_reply": "2024-08-03T15:58:39.207032Z"
    },
    "papermill": {
     "duration": 0.028241,
     "end_time": "2024-08-03T15:58:39.210025",
     "exception": false,
     "start_time": "2024-08-03T15:58:39.181784",
     "status": "completed"
    },
    "tags": []
   },
   "outputs": [],
   "source": [
    "fifa.loc[fifa['Value'].str.contains('M'),'Value'] = Mill_Ser_Value"
   ]
  },
  {
   "cell_type": "code",
   "execution_count": 23,
   "id": "a88806eb",
   "metadata": {
    "execution": {
     "iopub.execute_input": "2024-08-03T15:58:39.235499Z",
     "iopub.status.busy": "2024-08-03T15:58:39.235165Z",
     "iopub.status.idle": "2024-08-03T15:58:39.257719Z",
     "shell.execute_reply": "2024-08-03T15:58:39.256916Z"
    },
    "papermill": {
     "duration": 0.037548,
     "end_time": "2024-08-03T15:58:39.259771",
     "exception": false,
     "start_time": "2024-08-03T15:58:39.222223",
     "status": "completed"
    },
    "tags": []
   },
   "outputs": [],
   "source": [
    "# Slicing the Thousand values to start work on its\n",
    "Thous_Ser_Value = fifa.loc[fifa['Value'].str.contains('K') == True,'Value']"
   ]
  },
  {
   "cell_type": "code",
   "execution_count": 24,
   "id": "54dff443",
   "metadata": {
    "execution": {
     "iopub.execute_input": "2024-08-03T15:58:39.285927Z",
     "iopub.status.busy": "2024-08-03T15:58:39.285346Z",
     "iopub.status.idle": "2024-08-03T15:58:39.297145Z",
     "shell.execute_reply": "2024-08-03T15:58:39.296057Z"
    },
    "papermill": {
     "duration": 0.026838,
     "end_time": "2024-08-03T15:58:39.299084",
     "exception": false,
     "start_time": "2024-08-03T15:58:39.272246",
     "status": "completed"
    },
    "tags": []
   },
   "outputs": [],
   "source": [
    "Thous_Ser_Value = Thous_Ser_Value.str.replace('K','').astype(np.float32) * 1000"
   ]
  },
  {
   "cell_type": "code",
   "execution_count": 25,
   "id": "e15c09e6",
   "metadata": {
    "execution": {
     "iopub.execute_input": "2024-08-03T15:58:39.324491Z",
     "iopub.status.busy": "2024-08-03T15:58:39.324174Z",
     "iopub.status.idle": "2024-08-03T15:58:39.346150Z",
     "shell.execute_reply": "2024-08-03T15:58:39.345337Z"
    },
    "papermill": {
     "duration": 0.037053,
     "end_time": "2024-08-03T15:58:39.348162",
     "exception": false,
     "start_time": "2024-08-03T15:58:39.311109",
     "status": "completed"
    },
    "tags": []
   },
   "outputs": [],
   "source": [
    "fifa.loc[fifa['Value'].str.contains('K') == True,'Value'] = Thous_Ser_Value"
   ]
  },
  {
   "cell_type": "code",
   "execution_count": 26,
   "id": "61281cc9",
   "metadata": {
    "execution": {
     "iopub.execute_input": "2024-08-03T15:58:39.373832Z",
     "iopub.status.busy": "2024-08-03T15:58:39.373470Z",
     "iopub.status.idle": "2024-08-03T15:58:39.380953Z",
     "shell.execute_reply": "2024-08-03T15:58:39.380089Z"
    },
    "papermill": {
     "duration": 0.022614,
     "end_time": "2024-08-03T15:58:39.383042",
     "exception": false,
     "start_time": "2024-08-03T15:58:39.360428",
     "status": "completed"
    },
    "tags": []
   },
   "outputs": [
    {
     "data": {
      "text/plain": [
       "0        67500000.0\n",
       "1        46000000.0\n",
       "2        75000000.0\n",
       "3        87000000.0\n",
       "4        90000000.0\n",
       "            ...    \n",
       "18974       35000.0\n",
       "18975       60000.0\n",
       "18976       40000.0\n",
       "18977       60000.0\n",
       "18978       60000.0\n",
       "Name: Value, Length: 18978, dtype: object"
      ]
     },
     "execution_count": 26,
     "metadata": {},
     "output_type": "execute_result"
    }
   ],
   "source": [
    "fifa['Value']"
   ]
  },
  {
   "cell_type": "markdown",
   "id": "41b528e1",
   "metadata": {
    "papermill": {
     "duration": 0.011754,
     "end_time": "2024-08-03T15:58:39.406919",
     "exception": false,
     "start_time": "2024-08-03T15:58:39.395165",
     "status": "completed"
    },
    "tags": []
   },
   "source": [
    "we can make it actually also by **apply** : "
   ]
  },
  {
   "cell_type": "code",
   "execution_count": 27,
   "id": "ece16aea",
   "metadata": {
    "execution": {
     "iopub.execute_input": "2024-08-03T15:58:39.432453Z",
     "iopub.status.busy": "2024-08-03T15:58:39.432108Z",
     "iopub.status.idle": "2024-08-03T15:58:39.446542Z",
     "shell.execute_reply": "2024-08-03T15:58:39.445719Z"
    },
    "papermill": {
     "duration": 0.029583,
     "end_time": "2024-08-03T15:58:39.448488",
     "exception": false,
     "start_time": "2024-08-03T15:58:39.418905",
     "status": "completed"
    },
    "tags": []
   },
   "outputs": [],
   "source": [
    "fifa['Wage'] = fifa['Wage'].str.replace('€','')"
   ]
  },
  {
   "cell_type": "code",
   "execution_count": 28,
   "id": "1aa47ec2",
   "metadata": {
    "execution": {
     "iopub.execute_input": "2024-08-03T15:58:39.474016Z",
     "iopub.status.busy": "2024-08-03T15:58:39.473648Z",
     "iopub.status.idle": "2024-08-03T15:58:39.489112Z",
     "shell.execute_reply": "2024-08-03T15:58:39.488169Z"
    },
    "papermill": {
     "duration": 0.030411,
     "end_time": "2024-08-03T15:58:39.491054",
     "exception": false,
     "start_time": "2024-08-03T15:58:39.460643",
     "status": "completed"
    },
    "tags": []
   },
   "outputs": [],
   "source": [
    "def change_cur(x):\n",
    "    if 'M' in x:\n",
    "        x = float(x.replace('M',''))\n",
    "        return x * 1000000\n",
    "    elif 'K' in x:\n",
    "        x = float(x.replace('K',''))\n",
    "        return x * 1000\n",
    "    return x\n",
    "fifa['Wage'] = fifa['Wage'].apply(change_cur)"
   ]
  },
  {
   "cell_type": "code",
   "execution_count": 29,
   "id": "e752b05b",
   "metadata": {
    "execution": {
     "iopub.execute_input": "2024-08-03T15:58:39.516555Z",
     "iopub.status.busy": "2024-08-03T15:58:39.516222Z",
     "iopub.status.idle": "2024-08-03T15:58:39.523705Z",
     "shell.execute_reply": "2024-08-03T15:58:39.522831Z"
    },
    "papermill": {
     "duration": 0.022394,
     "end_time": "2024-08-03T15:58:39.525618",
     "exception": false,
     "start_time": "2024-08-03T15:58:39.503224",
     "status": "completed"
    },
    "tags": []
   },
   "outputs": [
    {
     "data": {
      "text/plain": [
       "0        560000.0\n",
       "1        220000.0\n",
       "2        125000.0\n",
       "3        370000.0\n",
       "4        270000.0\n",
       "           ...   \n",
       "18974      1000.0\n",
       "18975         500\n",
       "18976      1000.0\n",
       "18977         500\n",
       "18978         500\n",
       "Name: Wage, Length: 18978, dtype: object"
      ]
     },
     "execution_count": 29,
     "metadata": {},
     "output_type": "execute_result"
    }
   ],
   "source": [
    "fifa['Wage']"
   ]
  },
  {
   "cell_type": "code",
   "execution_count": 30,
   "id": "47a5689c",
   "metadata": {
    "execution": {
     "iopub.execute_input": "2024-08-03T15:58:39.551178Z",
     "iopub.status.busy": "2024-08-03T15:58:39.550837Z",
     "iopub.status.idle": "2024-08-03T15:58:39.564186Z",
     "shell.execute_reply": "2024-08-03T15:58:39.563377Z"
    },
    "papermill": {
     "duration": 0.028428,
     "end_time": "2024-08-03T15:58:39.566199",
     "exception": false,
     "start_time": "2024-08-03T15:58:39.537771",
     "status": "completed"
    },
    "tags": []
   },
   "outputs": [],
   "source": [
    "fifa['Release Clause'] = fifa['Release Clause'].str.replace('€','')"
   ]
  },
  {
   "cell_type": "code",
   "execution_count": 31,
   "id": "eb667789",
   "metadata": {
    "execution": {
     "iopub.execute_input": "2024-08-03T15:58:39.592260Z",
     "iopub.status.busy": "2024-08-03T15:58:39.591935Z",
     "iopub.status.idle": "2024-08-03T15:58:39.606614Z",
     "shell.execute_reply": "2024-08-03T15:58:39.605907Z"
    },
    "papermill": {
     "duration": 0.02987,
     "end_time": "2024-08-03T15:58:39.608517",
     "exception": false,
     "start_time": "2024-08-03T15:58:39.578647",
     "status": "completed"
    },
    "tags": []
   },
   "outputs": [],
   "source": [
    "fifa['Release Clause'] = fifa['Release Clause'].apply(change_cur)"
   ]
  },
  {
   "cell_type": "code",
   "execution_count": 32,
   "id": "ee1774c1",
   "metadata": {
    "execution": {
     "iopub.execute_input": "2024-08-03T15:58:39.634286Z",
     "iopub.status.busy": "2024-08-03T15:58:39.633972Z",
     "iopub.status.idle": "2024-08-03T15:58:39.642124Z",
     "shell.execute_reply": "2024-08-03T15:58:39.641162Z"
    },
    "papermill": {
     "duration": 0.023295,
     "end_time": "2024-08-03T15:58:39.644090",
     "exception": false,
     "start_time": "2024-08-03T15:58:39.620795",
     "status": "completed"
    },
    "tags": []
   },
   "outputs": [
    {
     "data": {
      "text/plain": [
       "0        138400000.0\n",
       "1         75900000.0\n",
       "2        159400000.0\n",
       "3        161000000.0\n",
       "4        166500000.0\n",
       "            ...     \n",
       "18974        57000.0\n",
       "18975       165000.0\n",
       "18976        70000.0\n",
       "18977       165000.0\n",
       "18978       167000.0\n",
       "Name: Release Clause, Length: 18978, dtype: object"
      ]
     },
     "execution_count": 32,
     "metadata": {},
     "output_type": "execute_result"
    }
   ],
   "source": [
    "fifa['Release Clause']"
   ]
  },
  {
   "cell_type": "markdown",
   "id": "bff964bf",
   "metadata": {
    "papermill": {
     "duration": 0.012031,
     "end_time": "2024-08-03T15:58:39.668465",
     "exception": false,
     "start_time": "2024-08-03T15:58:39.656434",
     "status": "completed"
    },
    "tags": []
   },
   "source": [
    "## Split Team and Contract"
   ]
  },
  {
   "cell_type": "code",
   "execution_count": 33,
   "id": "7d348cbc",
   "metadata": {
    "execution": {
     "iopub.execute_input": "2024-08-03T15:58:39.694558Z",
     "iopub.status.busy": "2024-08-03T15:58:39.694218Z",
     "iopub.status.idle": "2024-08-03T15:58:39.735898Z",
     "shell.execute_reply": "2024-08-03T15:58:39.735062Z"
    },
    "papermill": {
     "duration": 0.057153,
     "end_time": "2024-08-03T15:58:39.737983",
     "exception": false,
     "start_time": "2024-08-03T15:58:39.680830",
     "status": "completed"
    },
    "tags": []
   },
   "outputs": [],
   "source": [
    "fifa['Contract'] = fifa['Team & Contract'].str.findall(r'[\\d~ ]+').str[-1]"
   ]
  },
  {
   "cell_type": "code",
   "execution_count": 34,
   "id": "29ac0eec",
   "metadata": {
    "execution": {
     "iopub.execute_input": "2024-08-03T15:58:39.764840Z",
     "iopub.status.busy": "2024-08-03T15:58:39.764462Z",
     "iopub.status.idle": "2024-08-03T15:58:39.809632Z",
     "shell.execute_reply": "2024-08-03T15:58:39.808846Z"
    },
    "papermill": {
     "duration": 0.061373,
     "end_time": "2024-08-03T15:58:39.811983",
     "exception": false,
     "start_time": "2024-08-03T15:58:39.750610",
     "status": "completed"
    },
    "tags": []
   },
   "outputs": [],
   "source": [
    "def get_name_club(x):\n",
    "    name_club = ''\n",
    "    for letter in x:\n",
    "        if letter in ['1','2']:\n",
    "            return name_club\n",
    "        else:\n",
    "            name_club += letter\n",
    "        \n",
    "fifa['Team'] = fifa['Team & Contract'].apply(get_name_club)"
   ]
  },
  {
   "cell_type": "code",
   "execution_count": 35,
   "id": "e328e905",
   "metadata": {
    "execution": {
     "iopub.execute_input": "2024-08-03T15:58:39.838656Z",
     "iopub.status.busy": "2024-08-03T15:58:39.838308Z",
     "iopub.status.idle": "2024-08-03T15:58:39.856492Z",
     "shell.execute_reply": "2024-08-03T15:58:39.855699Z"
    },
    "papermill": {
     "duration": 0.034127,
     "end_time": "2024-08-03T15:58:39.858728",
     "exception": false,
     "start_time": "2024-08-03T15:58:39.824601",
     "status": "completed"
    },
    "tags": []
   },
   "outputs": [],
   "source": [
    "#drop colum\n",
    "fifa.drop(columns = ['Team & Contract'], inplace = True)"
   ]
  },
  {
   "cell_type": "code",
   "execution_count": 36,
   "id": "e2ecda36",
   "metadata": {
    "execution": {
     "iopub.execute_input": "2024-08-03T15:58:39.885469Z",
     "iopub.status.busy": "2024-08-03T15:58:39.885124Z",
     "iopub.status.idle": "2024-08-03T15:58:39.929161Z",
     "shell.execute_reply": "2024-08-03T15:58:39.928190Z"
    },
    "papermill": {
     "duration": 0.059921,
     "end_time": "2024-08-03T15:58:39.931286",
     "exception": false,
     "start_time": "2024-08-03T15:58:39.871365",
     "status": "completed"
    },
    "tags": []
   },
   "outputs": [
    {
     "data": {
      "text/html": [
       "<div>\n",
       "<style scoped>\n",
       "    .dataframe tbody tr th:only-of-type {\n",
       "        vertical-align: middle;\n",
       "    }\n",
       "\n",
       "    .dataframe tbody tr th {\n",
       "        vertical-align: top;\n",
       "    }\n",
       "\n",
       "    .dataframe thead th {\n",
       "        text-align: right;\n",
       "    }\n",
       "</style>\n",
       "<table border=\"1\" class=\"dataframe\">\n",
       "  <thead>\n",
       "    <tr style=\"text-align: right;\">\n",
       "      <th></th>\n",
       "      <th>photoUrl</th>\n",
       "      <th>LongName</th>\n",
       "      <th>playerUrl</th>\n",
       "      <th>Nationality</th>\n",
       "      <th>Positions</th>\n",
       "      <th>Name</th>\n",
       "      <th>Age</th>\n",
       "      <th>↓OVA</th>\n",
       "      <th>POT</th>\n",
       "      <th>ID</th>\n",
       "      <th>...</th>\n",
       "      <th>IR</th>\n",
       "      <th>PAC</th>\n",
       "      <th>SHO</th>\n",
       "      <th>PAS</th>\n",
       "      <th>DRI</th>\n",
       "      <th>DEF</th>\n",
       "      <th>PHY</th>\n",
       "      <th>Hits</th>\n",
       "      <th>Contract</th>\n",
       "      <th>Team</th>\n",
       "    </tr>\n",
       "  </thead>\n",
       "  <tbody>\n",
       "    <tr>\n",
       "      <th>0</th>\n",
       "      <td>https://cdn.sofifa.com/players/158/023/21_60.png</td>\n",
       "      <td>Lionel Messi</td>\n",
       "      <td>http://sofifa.com/player/158023/lionel-messi/2...</td>\n",
       "      <td>Argentina</td>\n",
       "      <td>RW ST CF</td>\n",
       "      <td>L. Messi</td>\n",
       "      <td>33</td>\n",
       "      <td>93</td>\n",
       "      <td>93</td>\n",
       "      <td>158023</td>\n",
       "      <td>...</td>\n",
       "      <td>5 ★</td>\n",
       "      <td>85</td>\n",
       "      <td>92</td>\n",
       "      <td>91</td>\n",
       "      <td>95</td>\n",
       "      <td>38</td>\n",
       "      <td>65</td>\n",
       "      <td>372</td>\n",
       "      <td>2004 ~ 2021</td>\n",
       "      <td>FC Barcelona</td>\n",
       "    </tr>\n",
       "    <tr>\n",
       "      <th>1</th>\n",
       "      <td>https://cdn.sofifa.com/players/020/801/21_60.png</td>\n",
       "      <td>C. Ronaldo dos Santos Aveiro</td>\n",
       "      <td>http://sofifa.com/player/20801/c-ronaldo-dos-s...</td>\n",
       "      <td>Portugal</td>\n",
       "      <td>ST LW</td>\n",
       "      <td>Cristiano Ronaldo</td>\n",
       "      <td>35</td>\n",
       "      <td>92</td>\n",
       "      <td>92</td>\n",
       "      <td>20801</td>\n",
       "      <td>...</td>\n",
       "      <td>5 ★</td>\n",
       "      <td>89</td>\n",
       "      <td>93</td>\n",
       "      <td>81</td>\n",
       "      <td>89</td>\n",
       "      <td>35</td>\n",
       "      <td>77</td>\n",
       "      <td>344</td>\n",
       "      <td>2018 ~ 2022</td>\n",
       "      <td>Juventus</td>\n",
       "    </tr>\n",
       "    <tr>\n",
       "      <th>2</th>\n",
       "      <td>https://cdn.sofifa.com/players/200/389/21_60.png</td>\n",
       "      <td>Jan Oblak</td>\n",
       "      <td>http://sofifa.com/player/200389/jan-oblak/210005/</td>\n",
       "      <td>Slovenia</td>\n",
       "      <td>GK</td>\n",
       "      <td>J. Oblak</td>\n",
       "      <td>27</td>\n",
       "      <td>91</td>\n",
       "      <td>93</td>\n",
       "      <td>200389</td>\n",
       "      <td>...</td>\n",
       "      <td>3 ★</td>\n",
       "      <td>87</td>\n",
       "      <td>92</td>\n",
       "      <td>78</td>\n",
       "      <td>90</td>\n",
       "      <td>52</td>\n",
       "      <td>90</td>\n",
       "      <td>86</td>\n",
       "      <td>2014 ~ 2023</td>\n",
       "      <td>Atlético Madrid</td>\n",
       "    </tr>\n",
       "    <tr>\n",
       "      <th>3</th>\n",
       "      <td>https://cdn.sofifa.com/players/192/985/21_60.png</td>\n",
       "      <td>Kevin De Bruyne</td>\n",
       "      <td>http://sofifa.com/player/192985/kevin-de-bruyn...</td>\n",
       "      <td>Belgium</td>\n",
       "      <td>CAM CM</td>\n",
       "      <td>K. De Bruyne</td>\n",
       "      <td>29</td>\n",
       "      <td>91</td>\n",
       "      <td>91</td>\n",
       "      <td>192985</td>\n",
       "      <td>...</td>\n",
       "      <td>4 ★</td>\n",
       "      <td>76</td>\n",
       "      <td>86</td>\n",
       "      <td>93</td>\n",
       "      <td>88</td>\n",
       "      <td>64</td>\n",
       "      <td>78</td>\n",
       "      <td>163</td>\n",
       "      <td>2015 ~ 2023</td>\n",
       "      <td>Manchester City</td>\n",
       "    </tr>\n",
       "    <tr>\n",
       "      <th>4</th>\n",
       "      <td>https://cdn.sofifa.com/players/190/871/21_60.png</td>\n",
       "      <td>Neymar da Silva Santos Jr.</td>\n",
       "      <td>http://sofifa.com/player/190871/neymar-da-silv...</td>\n",
       "      <td>Brazil</td>\n",
       "      <td>LW CAM</td>\n",
       "      <td>Neymar Jr</td>\n",
       "      <td>28</td>\n",
       "      <td>91</td>\n",
       "      <td>91</td>\n",
       "      <td>190871</td>\n",
       "      <td>...</td>\n",
       "      <td>5 ★</td>\n",
       "      <td>91</td>\n",
       "      <td>85</td>\n",
       "      <td>86</td>\n",
       "      <td>94</td>\n",
       "      <td>36</td>\n",
       "      <td>59</td>\n",
       "      <td>273</td>\n",
       "      <td>2017 ~ 2022</td>\n",
       "      <td>Paris Saint-Germain</td>\n",
       "    </tr>\n",
       "    <tr>\n",
       "      <th>...</th>\n",
       "      <td>...</td>\n",
       "      <td>...</td>\n",
       "      <td>...</td>\n",
       "      <td>...</td>\n",
       "      <td>...</td>\n",
       "      <td>...</td>\n",
       "      <td>...</td>\n",
       "      <td>...</td>\n",
       "      <td>...</td>\n",
       "      <td>...</td>\n",
       "      <td>...</td>\n",
       "      <td>...</td>\n",
       "      <td>...</td>\n",
       "      <td>...</td>\n",
       "      <td>...</td>\n",
       "      <td>...</td>\n",
       "      <td>...</td>\n",
       "      <td>...</td>\n",
       "      <td>...</td>\n",
       "      <td>...</td>\n",
       "      <td>...</td>\n",
       "    </tr>\n",
       "    <tr>\n",
       "      <th>18974</th>\n",
       "      <td>https://cdn.sofifa.com/players/257/710/21_60.png</td>\n",
       "      <td>Mengxuan Zhang</td>\n",
       "      <td>http://sofifa.com/player/257710/mengxuan-zhang...</td>\n",
       "      <td>China PR</td>\n",
       "      <td>CB</td>\n",
       "      <td>Zhang Mengxuan</td>\n",
       "      <td>21</td>\n",
       "      <td>47</td>\n",
       "      <td>52</td>\n",
       "      <td>257710</td>\n",
       "      <td>...</td>\n",
       "      <td>1 ★</td>\n",
       "      <td>58</td>\n",
       "      <td>23</td>\n",
       "      <td>26</td>\n",
       "      <td>27</td>\n",
       "      <td>50</td>\n",
       "      <td>48</td>\n",
       "      <td>2</td>\n",
       "      <td>2020 ~ 2020</td>\n",
       "      <td>Chongqing Dangdai Lifan FC SWM Team</td>\n",
       "    </tr>\n",
       "    <tr>\n",
       "      <th>18975</th>\n",
       "      <td>https://cdn.sofifa.com/players/258/736/21_60.png</td>\n",
       "      <td>Vani Da Silva</td>\n",
       "      <td>http://sofifa.com/player/258736/vani-da-silva/...</td>\n",
       "      <td>England</td>\n",
       "      <td>ST</td>\n",
       "      <td>V. Da Silva</td>\n",
       "      <td>17</td>\n",
       "      <td>47</td>\n",
       "      <td>67</td>\n",
       "      <td>258736</td>\n",
       "      <td>...</td>\n",
       "      <td>1 ★</td>\n",
       "      <td>70</td>\n",
       "      <td>46</td>\n",
       "      <td>40</td>\n",
       "      <td>53</td>\n",
       "      <td>16</td>\n",
       "      <td>40</td>\n",
       "      <td>3</td>\n",
       "      <td>2020 ~ 2021</td>\n",
       "      <td>Oldham Athletic</td>\n",
       "    </tr>\n",
       "    <tr>\n",
       "      <th>18976</th>\n",
       "      <td>https://cdn.sofifa.com/players/247/223/21_60.png</td>\n",
       "      <td>Ao Xia</td>\n",
       "      <td>http://sofifa.com/player/247223/ao-xia/210005/</td>\n",
       "      <td>China PR</td>\n",
       "      <td>CB</td>\n",
       "      <td>Xia Ao</td>\n",
       "      <td>21</td>\n",
       "      <td>47</td>\n",
       "      <td>55</td>\n",
       "      <td>247223</td>\n",
       "      <td>...</td>\n",
       "      <td>1 ★</td>\n",
       "      <td>64</td>\n",
       "      <td>28</td>\n",
       "      <td>26</td>\n",
       "      <td>38</td>\n",
       "      <td>48</td>\n",
       "      <td>51</td>\n",
       "      <td>3</td>\n",
       "      <td>2018 ~ 2022</td>\n",
       "      <td>Wuhan Zall</td>\n",
       "    </tr>\n",
       "    <tr>\n",
       "      <th>18977</th>\n",
       "      <td>https://cdn.sofifa.com/players/258/760/21_60.png</td>\n",
       "      <td>Ben Hough</td>\n",
       "      <td>http://sofifa.com/player/258760/ben-hough/210005/</td>\n",
       "      <td>England</td>\n",
       "      <td>CM</td>\n",
       "      <td>B. Hough</td>\n",
       "      <td>17</td>\n",
       "      <td>47</td>\n",
       "      <td>67</td>\n",
       "      <td>258760</td>\n",
       "      <td>...</td>\n",
       "      <td>1 ★</td>\n",
       "      <td>64</td>\n",
       "      <td>40</td>\n",
       "      <td>48</td>\n",
       "      <td>49</td>\n",
       "      <td>35</td>\n",
       "      <td>45</td>\n",
       "      <td>5</td>\n",
       "      <td>2020 ~ 2021</td>\n",
       "      <td>Oldham Athletic</td>\n",
       "    </tr>\n",
       "    <tr>\n",
       "      <th>18978</th>\n",
       "      <td>https://cdn.sofifa.com/players/255/958/21_60.png</td>\n",
       "      <td>Mateo Flores</td>\n",
       "      <td>http://sofifa.com/player/255958/mateo-flores/2...</td>\n",
       "      <td>Bolivia</td>\n",
       "      <td>CDM</td>\n",
       "      <td>M. Flores</td>\n",
       "      <td>19</td>\n",
       "      <td>47</td>\n",
       "      <td>63</td>\n",
       "      <td>255958</td>\n",
       "      <td>...</td>\n",
       "      <td>1 ★</td>\n",
       "      <td>57</td>\n",
       "      <td>32</td>\n",
       "      <td>43</td>\n",
       "      <td>48</td>\n",
       "      <td>44</td>\n",
       "      <td>49</td>\n",
       "      <td>2</td>\n",
       "      <td>2020 ~ 2024</td>\n",
       "      <td>Club Bolívar</td>\n",
       "    </tr>\n",
       "  </tbody>\n",
       "</table>\n",
       "<p>18978 rows × 78 columns</p>\n",
       "</div>"
      ],
      "text/plain": [
       "                                               photoUrl  \\\n",
       "0      https://cdn.sofifa.com/players/158/023/21_60.png   \n",
       "1      https://cdn.sofifa.com/players/020/801/21_60.png   \n",
       "2      https://cdn.sofifa.com/players/200/389/21_60.png   \n",
       "3      https://cdn.sofifa.com/players/192/985/21_60.png   \n",
       "4      https://cdn.sofifa.com/players/190/871/21_60.png   \n",
       "...                                                 ...   \n",
       "18974  https://cdn.sofifa.com/players/257/710/21_60.png   \n",
       "18975  https://cdn.sofifa.com/players/258/736/21_60.png   \n",
       "18976  https://cdn.sofifa.com/players/247/223/21_60.png   \n",
       "18977  https://cdn.sofifa.com/players/258/760/21_60.png   \n",
       "18978  https://cdn.sofifa.com/players/255/958/21_60.png   \n",
       "\n",
       "                           LongName  \\\n",
       "0                      Lionel Messi   \n",
       "1      C. Ronaldo dos Santos Aveiro   \n",
       "2                         Jan Oblak   \n",
       "3                   Kevin De Bruyne   \n",
       "4        Neymar da Silva Santos Jr.   \n",
       "...                             ...   \n",
       "18974                Mengxuan Zhang   \n",
       "18975                 Vani Da Silva   \n",
       "18976                        Ao Xia   \n",
       "18977                     Ben Hough   \n",
       "18978                  Mateo Flores   \n",
       "\n",
       "                                               playerUrl Nationality  \\\n",
       "0      http://sofifa.com/player/158023/lionel-messi/2...   Argentina   \n",
       "1      http://sofifa.com/player/20801/c-ronaldo-dos-s...    Portugal   \n",
       "2      http://sofifa.com/player/200389/jan-oblak/210005/    Slovenia   \n",
       "3      http://sofifa.com/player/192985/kevin-de-bruyn...     Belgium   \n",
       "4      http://sofifa.com/player/190871/neymar-da-silv...      Brazil   \n",
       "...                                                  ...         ...   \n",
       "18974  http://sofifa.com/player/257710/mengxuan-zhang...    China PR   \n",
       "18975  http://sofifa.com/player/258736/vani-da-silva/...     England   \n",
       "18976     http://sofifa.com/player/247223/ao-xia/210005/    China PR   \n",
       "18977  http://sofifa.com/player/258760/ben-hough/210005/     England   \n",
       "18978  http://sofifa.com/player/255958/mateo-flores/2...     Bolivia   \n",
       "\n",
       "      Positions               Name  Age  ↓OVA  POT      ID  ...   IR  PAC SHO  \\\n",
       "0      RW ST CF           L. Messi   33    93   93  158023  ...  5 ★   85  92   \n",
       "1         ST LW  Cristiano Ronaldo   35    92   92   20801  ...  5 ★   89  93   \n",
       "2            GK           J. Oblak   27    91   93  200389  ...  3 ★   87  92   \n",
       "3        CAM CM       K. De Bruyne   29    91   91  192985  ...  4 ★   76  86   \n",
       "4        LW CAM          Neymar Jr   28    91   91  190871  ...  5 ★   91  85   \n",
       "...         ...                ...  ...   ...  ...     ...  ...  ...  ...  ..   \n",
       "18974        CB     Zhang Mengxuan   21    47   52  257710  ...  1 ★   58  23   \n",
       "18975        ST        V. Da Silva   17    47   67  258736  ...  1 ★   70  46   \n",
       "18976        CB             Xia Ao   21    47   55  247223  ...  1 ★   64  28   \n",
       "18977        CM           B. Hough   17    47   67  258760  ...  1 ★   64  40   \n",
       "18978       CDM          M. Flores   19    47   63  255958  ...  1 ★   57  32   \n",
       "\n",
       "       PAS DRI  DEF PHY Hits     Contract                                 Team  \n",
       "0       91  95   38  65  372  2004 ~ 2021                         FC Barcelona  \n",
       "1       81  89   35  77  344  2018 ~ 2022                             Juventus  \n",
       "2       78  90   52  90   86  2014 ~ 2023                      Atlético Madrid  \n",
       "3       93  88   64  78  163  2015 ~ 2023                      Manchester City  \n",
       "4       86  94   36  59  273  2017 ~ 2022                  Paris Saint-Germain  \n",
       "...    ...  ..  ...  ..  ...          ...                                  ...  \n",
       "18974   26  27   50  48    2  2020 ~ 2020  Chongqing Dangdai Lifan FC SWM Team  \n",
       "18975   40  53   16  40    3  2020 ~ 2021                      Oldham Athletic  \n",
       "18976   26  38   48  51    3  2018 ~ 2022                           Wuhan Zall  \n",
       "18977   48  49   35  45    5  2020 ~ 2021                      Oldham Athletic  \n",
       "18978   43  48   44  49    2  2020 ~ 2024                         Club Bolívar  \n",
       "\n",
       "[18978 rows x 78 columns]"
      ]
     },
     "execution_count": 36,
     "metadata": {},
     "output_type": "execute_result"
    }
   ],
   "source": [
    "fifa"
   ]
  },
  {
   "cell_type": "markdown",
   "id": "2009d69d",
   "metadata": {
    "papermill": {
     "duration": 0.014225,
     "end_time": "2024-08-03T15:58:39.958656",
     "exception": false,
     "start_time": "2024-08-03T15:58:39.944431",
     "status": "completed"
    },
    "tags": []
   },
   "source": [
    "## Reorgnizing the data to get better View"
   ]
  },
  {
   "cell_type": "code",
   "execution_count": 37,
   "id": "ba3eea36",
   "metadata": {
    "execution": {
     "iopub.execute_input": "2024-08-03T15:58:39.986317Z",
     "iopub.status.busy": "2024-08-03T15:58:39.985971Z",
     "iopub.status.idle": "2024-08-03T15:58:39.991018Z",
     "shell.execute_reply": "2024-08-03T15:58:39.990124Z"
    },
    "papermill": {
     "duration": 0.021211,
     "end_time": "2024-08-03T15:58:39.993024",
     "exception": false,
     "start_time": "2024-08-03T15:58:39.971813",
     "status": "completed"
    },
    "tags": []
   },
   "outputs": [],
   "source": [
    "columns = ['ID','Name','Age'] + [column for column in fifa.columns if not(column in ['ID','Name','Age'])]"
   ]
  },
  {
   "cell_type": "code",
   "execution_count": 38,
   "id": "7ae746b4",
   "metadata": {
    "execution": {
     "iopub.execute_input": "2024-08-03T15:58:40.020438Z",
     "iopub.status.busy": "2024-08-03T15:58:40.020069Z",
     "iopub.status.idle": "2024-08-03T15:58:40.033741Z",
     "shell.execute_reply": "2024-08-03T15:58:40.032868Z"
    },
    "papermill": {
     "duration": 0.029741,
     "end_time": "2024-08-03T15:58:40.035892",
     "exception": false,
     "start_time": "2024-08-03T15:58:40.006151",
     "status": "completed"
    },
    "tags": []
   },
   "outputs": [],
   "source": [
    "fifa = fifa[columns]"
   ]
  },
  {
   "cell_type": "code",
   "execution_count": 39,
   "id": "0e925323",
   "metadata": {
    "execution": {
     "iopub.execute_input": "2024-08-03T15:58:40.063450Z",
     "iopub.status.busy": "2024-08-03T15:58:40.063092Z",
     "iopub.status.idle": "2024-08-03T15:58:40.111855Z",
     "shell.execute_reply": "2024-08-03T15:58:40.110929Z"
    },
    "papermill": {
     "duration": 0.065026,
     "end_time": "2024-08-03T15:58:40.114002",
     "exception": false,
     "start_time": "2024-08-03T15:58:40.048976",
     "status": "completed"
    },
    "tags": []
   },
   "outputs": [
    {
     "data": {
      "text/html": [
       "<div>\n",
       "<style scoped>\n",
       "    .dataframe tbody tr th:only-of-type {\n",
       "        vertical-align: middle;\n",
       "    }\n",
       "\n",
       "    .dataframe tbody tr th {\n",
       "        vertical-align: top;\n",
       "    }\n",
       "\n",
       "    .dataframe thead th {\n",
       "        text-align: right;\n",
       "    }\n",
       "</style>\n",
       "<table border=\"1\" class=\"dataframe\">\n",
       "  <thead>\n",
       "    <tr style=\"text-align: right;\">\n",
       "      <th></th>\n",
       "      <th>ID</th>\n",
       "      <th>Name</th>\n",
       "      <th>Age</th>\n",
       "      <th>photoUrl</th>\n",
       "      <th>LongName</th>\n",
       "      <th>playerUrl</th>\n",
       "      <th>Nationality</th>\n",
       "      <th>Positions</th>\n",
       "      <th>↓OVA</th>\n",
       "      <th>POT</th>\n",
       "      <th>...</th>\n",
       "      <th>IR</th>\n",
       "      <th>PAC</th>\n",
       "      <th>SHO</th>\n",
       "      <th>PAS</th>\n",
       "      <th>DRI</th>\n",
       "      <th>DEF</th>\n",
       "      <th>PHY</th>\n",
       "      <th>Hits</th>\n",
       "      <th>Contract</th>\n",
       "      <th>Team</th>\n",
       "    </tr>\n",
       "  </thead>\n",
       "  <tbody>\n",
       "    <tr>\n",
       "      <th>0</th>\n",
       "      <td>158023</td>\n",
       "      <td>L. Messi</td>\n",
       "      <td>33</td>\n",
       "      <td>https://cdn.sofifa.com/players/158/023/21_60.png</td>\n",
       "      <td>Lionel Messi</td>\n",
       "      <td>http://sofifa.com/player/158023/lionel-messi/2...</td>\n",
       "      <td>Argentina</td>\n",
       "      <td>RW ST CF</td>\n",
       "      <td>93</td>\n",
       "      <td>93</td>\n",
       "      <td>...</td>\n",
       "      <td>5 ★</td>\n",
       "      <td>85</td>\n",
       "      <td>92</td>\n",
       "      <td>91</td>\n",
       "      <td>95</td>\n",
       "      <td>38</td>\n",
       "      <td>65</td>\n",
       "      <td>372</td>\n",
       "      <td>2004 ~ 2021</td>\n",
       "      <td>FC Barcelona</td>\n",
       "    </tr>\n",
       "    <tr>\n",
       "      <th>1</th>\n",
       "      <td>20801</td>\n",
       "      <td>Cristiano Ronaldo</td>\n",
       "      <td>35</td>\n",
       "      <td>https://cdn.sofifa.com/players/020/801/21_60.png</td>\n",
       "      <td>C. Ronaldo dos Santos Aveiro</td>\n",
       "      <td>http://sofifa.com/player/20801/c-ronaldo-dos-s...</td>\n",
       "      <td>Portugal</td>\n",
       "      <td>ST LW</td>\n",
       "      <td>92</td>\n",
       "      <td>92</td>\n",
       "      <td>...</td>\n",
       "      <td>5 ★</td>\n",
       "      <td>89</td>\n",
       "      <td>93</td>\n",
       "      <td>81</td>\n",
       "      <td>89</td>\n",
       "      <td>35</td>\n",
       "      <td>77</td>\n",
       "      <td>344</td>\n",
       "      <td>2018 ~ 2022</td>\n",
       "      <td>Juventus</td>\n",
       "    </tr>\n",
       "    <tr>\n",
       "      <th>2</th>\n",
       "      <td>200389</td>\n",
       "      <td>J. Oblak</td>\n",
       "      <td>27</td>\n",
       "      <td>https://cdn.sofifa.com/players/200/389/21_60.png</td>\n",
       "      <td>Jan Oblak</td>\n",
       "      <td>http://sofifa.com/player/200389/jan-oblak/210005/</td>\n",
       "      <td>Slovenia</td>\n",
       "      <td>GK</td>\n",
       "      <td>91</td>\n",
       "      <td>93</td>\n",
       "      <td>...</td>\n",
       "      <td>3 ★</td>\n",
       "      <td>87</td>\n",
       "      <td>92</td>\n",
       "      <td>78</td>\n",
       "      <td>90</td>\n",
       "      <td>52</td>\n",
       "      <td>90</td>\n",
       "      <td>86</td>\n",
       "      <td>2014 ~ 2023</td>\n",
       "      <td>Atlético Madrid</td>\n",
       "    </tr>\n",
       "    <tr>\n",
       "      <th>3</th>\n",
       "      <td>192985</td>\n",
       "      <td>K. De Bruyne</td>\n",
       "      <td>29</td>\n",
       "      <td>https://cdn.sofifa.com/players/192/985/21_60.png</td>\n",
       "      <td>Kevin De Bruyne</td>\n",
       "      <td>http://sofifa.com/player/192985/kevin-de-bruyn...</td>\n",
       "      <td>Belgium</td>\n",
       "      <td>CAM CM</td>\n",
       "      <td>91</td>\n",
       "      <td>91</td>\n",
       "      <td>...</td>\n",
       "      <td>4 ★</td>\n",
       "      <td>76</td>\n",
       "      <td>86</td>\n",
       "      <td>93</td>\n",
       "      <td>88</td>\n",
       "      <td>64</td>\n",
       "      <td>78</td>\n",
       "      <td>163</td>\n",
       "      <td>2015 ~ 2023</td>\n",
       "      <td>Manchester City</td>\n",
       "    </tr>\n",
       "    <tr>\n",
       "      <th>4</th>\n",
       "      <td>190871</td>\n",
       "      <td>Neymar Jr</td>\n",
       "      <td>28</td>\n",
       "      <td>https://cdn.sofifa.com/players/190/871/21_60.png</td>\n",
       "      <td>Neymar da Silva Santos Jr.</td>\n",
       "      <td>http://sofifa.com/player/190871/neymar-da-silv...</td>\n",
       "      <td>Brazil</td>\n",
       "      <td>LW CAM</td>\n",
       "      <td>91</td>\n",
       "      <td>91</td>\n",
       "      <td>...</td>\n",
       "      <td>5 ★</td>\n",
       "      <td>91</td>\n",
       "      <td>85</td>\n",
       "      <td>86</td>\n",
       "      <td>94</td>\n",
       "      <td>36</td>\n",
       "      <td>59</td>\n",
       "      <td>273</td>\n",
       "      <td>2017 ~ 2022</td>\n",
       "      <td>Paris Saint-Germain</td>\n",
       "    </tr>\n",
       "    <tr>\n",
       "      <th>...</th>\n",
       "      <td>...</td>\n",
       "      <td>...</td>\n",
       "      <td>...</td>\n",
       "      <td>...</td>\n",
       "      <td>...</td>\n",
       "      <td>...</td>\n",
       "      <td>...</td>\n",
       "      <td>...</td>\n",
       "      <td>...</td>\n",
       "      <td>...</td>\n",
       "      <td>...</td>\n",
       "      <td>...</td>\n",
       "      <td>...</td>\n",
       "      <td>...</td>\n",
       "      <td>...</td>\n",
       "      <td>...</td>\n",
       "      <td>...</td>\n",
       "      <td>...</td>\n",
       "      <td>...</td>\n",
       "      <td>...</td>\n",
       "      <td>...</td>\n",
       "    </tr>\n",
       "    <tr>\n",
       "      <th>18974</th>\n",
       "      <td>257710</td>\n",
       "      <td>Zhang Mengxuan</td>\n",
       "      <td>21</td>\n",
       "      <td>https://cdn.sofifa.com/players/257/710/21_60.png</td>\n",
       "      <td>Mengxuan Zhang</td>\n",
       "      <td>http://sofifa.com/player/257710/mengxuan-zhang...</td>\n",
       "      <td>China PR</td>\n",
       "      <td>CB</td>\n",
       "      <td>47</td>\n",
       "      <td>52</td>\n",
       "      <td>...</td>\n",
       "      <td>1 ★</td>\n",
       "      <td>58</td>\n",
       "      <td>23</td>\n",
       "      <td>26</td>\n",
       "      <td>27</td>\n",
       "      <td>50</td>\n",
       "      <td>48</td>\n",
       "      <td>2</td>\n",
       "      <td>2020 ~ 2020</td>\n",
       "      <td>Chongqing Dangdai Lifan FC SWM Team</td>\n",
       "    </tr>\n",
       "    <tr>\n",
       "      <th>18975</th>\n",
       "      <td>258736</td>\n",
       "      <td>V. Da Silva</td>\n",
       "      <td>17</td>\n",
       "      <td>https://cdn.sofifa.com/players/258/736/21_60.png</td>\n",
       "      <td>Vani Da Silva</td>\n",
       "      <td>http://sofifa.com/player/258736/vani-da-silva/...</td>\n",
       "      <td>England</td>\n",
       "      <td>ST</td>\n",
       "      <td>47</td>\n",
       "      <td>67</td>\n",
       "      <td>...</td>\n",
       "      <td>1 ★</td>\n",
       "      <td>70</td>\n",
       "      <td>46</td>\n",
       "      <td>40</td>\n",
       "      <td>53</td>\n",
       "      <td>16</td>\n",
       "      <td>40</td>\n",
       "      <td>3</td>\n",
       "      <td>2020 ~ 2021</td>\n",
       "      <td>Oldham Athletic</td>\n",
       "    </tr>\n",
       "    <tr>\n",
       "      <th>18976</th>\n",
       "      <td>247223</td>\n",
       "      <td>Xia Ao</td>\n",
       "      <td>21</td>\n",
       "      <td>https://cdn.sofifa.com/players/247/223/21_60.png</td>\n",
       "      <td>Ao Xia</td>\n",
       "      <td>http://sofifa.com/player/247223/ao-xia/210005/</td>\n",
       "      <td>China PR</td>\n",
       "      <td>CB</td>\n",
       "      <td>47</td>\n",
       "      <td>55</td>\n",
       "      <td>...</td>\n",
       "      <td>1 ★</td>\n",
       "      <td>64</td>\n",
       "      <td>28</td>\n",
       "      <td>26</td>\n",
       "      <td>38</td>\n",
       "      <td>48</td>\n",
       "      <td>51</td>\n",
       "      <td>3</td>\n",
       "      <td>2018 ~ 2022</td>\n",
       "      <td>Wuhan Zall</td>\n",
       "    </tr>\n",
       "    <tr>\n",
       "      <th>18977</th>\n",
       "      <td>258760</td>\n",
       "      <td>B. Hough</td>\n",
       "      <td>17</td>\n",
       "      <td>https://cdn.sofifa.com/players/258/760/21_60.png</td>\n",
       "      <td>Ben Hough</td>\n",
       "      <td>http://sofifa.com/player/258760/ben-hough/210005/</td>\n",
       "      <td>England</td>\n",
       "      <td>CM</td>\n",
       "      <td>47</td>\n",
       "      <td>67</td>\n",
       "      <td>...</td>\n",
       "      <td>1 ★</td>\n",
       "      <td>64</td>\n",
       "      <td>40</td>\n",
       "      <td>48</td>\n",
       "      <td>49</td>\n",
       "      <td>35</td>\n",
       "      <td>45</td>\n",
       "      <td>5</td>\n",
       "      <td>2020 ~ 2021</td>\n",
       "      <td>Oldham Athletic</td>\n",
       "    </tr>\n",
       "    <tr>\n",
       "      <th>18978</th>\n",
       "      <td>255958</td>\n",
       "      <td>M. Flores</td>\n",
       "      <td>19</td>\n",
       "      <td>https://cdn.sofifa.com/players/255/958/21_60.png</td>\n",
       "      <td>Mateo Flores</td>\n",
       "      <td>http://sofifa.com/player/255958/mateo-flores/2...</td>\n",
       "      <td>Bolivia</td>\n",
       "      <td>CDM</td>\n",
       "      <td>47</td>\n",
       "      <td>63</td>\n",
       "      <td>...</td>\n",
       "      <td>1 ★</td>\n",
       "      <td>57</td>\n",
       "      <td>32</td>\n",
       "      <td>43</td>\n",
       "      <td>48</td>\n",
       "      <td>44</td>\n",
       "      <td>49</td>\n",
       "      <td>2</td>\n",
       "      <td>2020 ~ 2024</td>\n",
       "      <td>Club Bolívar</td>\n",
       "    </tr>\n",
       "  </tbody>\n",
       "</table>\n",
       "<p>18978 rows × 78 columns</p>\n",
       "</div>"
      ],
      "text/plain": [
       "           ID               Name  Age  \\\n",
       "0      158023           L. Messi   33   \n",
       "1       20801  Cristiano Ronaldo   35   \n",
       "2      200389           J. Oblak   27   \n",
       "3      192985       K. De Bruyne   29   \n",
       "4      190871          Neymar Jr   28   \n",
       "...       ...                ...  ...   \n",
       "18974  257710     Zhang Mengxuan   21   \n",
       "18975  258736        V. Da Silva   17   \n",
       "18976  247223             Xia Ao   21   \n",
       "18977  258760           B. Hough   17   \n",
       "18978  255958          M. Flores   19   \n",
       "\n",
       "                                               photoUrl  \\\n",
       "0      https://cdn.sofifa.com/players/158/023/21_60.png   \n",
       "1      https://cdn.sofifa.com/players/020/801/21_60.png   \n",
       "2      https://cdn.sofifa.com/players/200/389/21_60.png   \n",
       "3      https://cdn.sofifa.com/players/192/985/21_60.png   \n",
       "4      https://cdn.sofifa.com/players/190/871/21_60.png   \n",
       "...                                                 ...   \n",
       "18974  https://cdn.sofifa.com/players/257/710/21_60.png   \n",
       "18975  https://cdn.sofifa.com/players/258/736/21_60.png   \n",
       "18976  https://cdn.sofifa.com/players/247/223/21_60.png   \n",
       "18977  https://cdn.sofifa.com/players/258/760/21_60.png   \n",
       "18978  https://cdn.sofifa.com/players/255/958/21_60.png   \n",
       "\n",
       "                           LongName  \\\n",
       "0                      Lionel Messi   \n",
       "1      C. Ronaldo dos Santos Aveiro   \n",
       "2                         Jan Oblak   \n",
       "3                   Kevin De Bruyne   \n",
       "4        Neymar da Silva Santos Jr.   \n",
       "...                             ...   \n",
       "18974                Mengxuan Zhang   \n",
       "18975                 Vani Da Silva   \n",
       "18976                        Ao Xia   \n",
       "18977                     Ben Hough   \n",
       "18978                  Mateo Flores   \n",
       "\n",
       "                                               playerUrl Nationality  \\\n",
       "0      http://sofifa.com/player/158023/lionel-messi/2...   Argentina   \n",
       "1      http://sofifa.com/player/20801/c-ronaldo-dos-s...    Portugal   \n",
       "2      http://sofifa.com/player/200389/jan-oblak/210005/    Slovenia   \n",
       "3      http://sofifa.com/player/192985/kevin-de-bruyn...     Belgium   \n",
       "4      http://sofifa.com/player/190871/neymar-da-silv...      Brazil   \n",
       "...                                                  ...         ...   \n",
       "18974  http://sofifa.com/player/257710/mengxuan-zhang...    China PR   \n",
       "18975  http://sofifa.com/player/258736/vani-da-silva/...     England   \n",
       "18976     http://sofifa.com/player/247223/ao-xia/210005/    China PR   \n",
       "18977  http://sofifa.com/player/258760/ben-hough/210005/     England   \n",
       "18978  http://sofifa.com/player/255958/mateo-flores/2...     Bolivia   \n",
       "\n",
       "      Positions  ↓OVA  POT  ...   IR  PAC SHO  PAS DRI  DEF PHY Hits  \\\n",
       "0      RW ST CF    93   93  ...  5 ★   85  92   91  95   38  65  372   \n",
       "1         ST LW    92   92  ...  5 ★   89  93   81  89   35  77  344   \n",
       "2            GK    91   93  ...  3 ★   87  92   78  90   52  90   86   \n",
       "3        CAM CM    91   91  ...  4 ★   76  86   93  88   64  78  163   \n",
       "4        LW CAM    91   91  ...  5 ★   91  85   86  94   36  59  273   \n",
       "...         ...   ...  ...  ...  ...  ...  ..  ...  ..  ...  ..  ...   \n",
       "18974        CB    47   52  ...  1 ★   58  23   26  27   50  48    2   \n",
       "18975        ST    47   67  ...  1 ★   70  46   40  53   16  40    3   \n",
       "18976        CB    47   55  ...  1 ★   64  28   26  38   48  51    3   \n",
       "18977        CM    47   67  ...  1 ★   64  40   48  49   35  45    5   \n",
       "18978       CDM    47   63  ...  1 ★   57  32   43  48   44  49    2   \n",
       "\n",
       "          Contract                                 Team  \n",
       "0      2004 ~ 2021                         FC Barcelona  \n",
       "1      2018 ~ 2022                             Juventus  \n",
       "2      2014 ~ 2023                      Atlético Madrid  \n",
       "3      2015 ~ 2023                      Manchester City  \n",
       "4      2017 ~ 2022                  Paris Saint-Germain  \n",
       "...            ...                                  ...  \n",
       "18974  2020 ~ 2020  Chongqing Dangdai Lifan FC SWM Team  \n",
       "18975  2020 ~ 2021                      Oldham Athletic  \n",
       "18976  2018 ~ 2022                           Wuhan Zall  \n",
       "18977  2020 ~ 2021                      Oldham Athletic  \n",
       "18978  2020 ~ 2024                         Club Bolívar  \n",
       "\n",
       "[18978 rows x 78 columns]"
      ]
     },
     "execution_count": 39,
     "metadata": {},
     "output_type": "execute_result"
    }
   ],
   "source": [
    "fifa"
   ]
  },
  {
   "cell_type": "code",
   "execution_count": null,
   "id": "fe75259f",
   "metadata": {
    "papermill": {
     "duration": 0.013149,
     "end_time": "2024-08-03T15:58:40.140819",
     "exception": false,
     "start_time": "2024-08-03T15:58:40.127670",
     "status": "completed"
    },
    "tags": []
   },
   "outputs": [],
   "source": []
  }
 ],
 "metadata": {
  "kaggle": {
   "accelerator": "none",
   "dataSources": [
    {
     "datasetId": 923113,
     "sourceId": 1579237,
     "sourceType": "datasetVersion"
    }
   ],
   "dockerImageVersionId": 30746,
   "isGpuEnabled": false,
   "isInternetEnabled": true,
   "language": "python",
   "sourceType": "notebook"
  },
  "kernelspec": {
   "display_name": "Python 3",
   "language": "python",
   "name": "python3"
  },
  "language_info": {
   "codemirror_mode": {
    "name": "ipython",
    "version": 3
   },
   "file_extension": ".py",
   "mimetype": "text/x-python",
   "name": "python",
   "nbconvert_exporter": "python",
   "pygments_lexer": "ipython3",
   "version": "3.10.13"
  },
  "papermill": {
   "default_parameters": {},
   "duration": 6.406839,
   "end_time": "2024-08-03T15:58:40.573232",
   "environment_variables": {},
   "exception": null,
   "input_path": "__notebook__.ipynb",
   "output_path": "__notebook__.ipynb",
   "parameters": {},
   "start_time": "2024-08-03T15:58:34.166393",
   "version": "2.5.0"
  }
 },
 "nbformat": 4,
 "nbformat_minor": 5
}
